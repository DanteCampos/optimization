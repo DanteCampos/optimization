{
 "cells": [
  {
   "cell_type": "code",
   "execution_count": 70,
   "metadata": {},
   "outputs": [],
   "source": [
    "import sympy as sp\n",
    "import numpy as np\n",
    "import scipy.optimize as opt\n",
    "from copy import copy\n",
    "import random as rd\n",
    "from matplotlib import pyplot as plt\n",
    "sp.init_printing(use_latex=\"mathjax\")\n",
    "\n",
    "# Retornar o produto escalar de dois vetores\n",
    "def dot_product (v1: list, v2: list):\n",
    "    result = 0.0\n",
    "    \n",
    "    if len(v1) == len (v2):\n",
    "        for i in range (0, len(v1)):\n",
    "            result += v1[i]*v2[i]\n",
    "    \n",
    "    return result\n",
    "\n",
    "# Retornar a norma ao quadrado de um vetor\n",
    "def squared_norm (Xn: list):\n",
    "    return dot_product(Xn, Xn)\n",
    "\n",
    "# Retornar o vetor v1-v2\n",
    "def vec_sub (v1: list, v2: list):\n",
    "    result = []\n",
    "    if (len(v1) == len (v2)):\n",
    "        for i in range (0, len(v1)):\n",
    "            result.append(v1[i]-v2[i])\n",
    "    \n",
    "    return result"
   ]
  },
  {
   "cell_type": "markdown",
   "metadata": {},
   "source": [
    "Digite quantas dimensões tem o domínio da função:"
   ]
  },
  {
   "cell_type": "code",
   "execution_count": 3,
   "metadata": {},
   "outputs": [],
   "source": [
    "n = 2"
   ]
  },
  {
   "cell_type": "code",
   "execution_count": 4,
   "metadata": {},
   "outputs": [
    {
     "data": {
      "text/latex": [
       "$\\displaystyle \\left( x_{0}, \\  x_{1}, \\  x_{2}, \\  x_{3}\\right)$"
      ],
      "text/plain": [
       "(x₀, x₁, x₂, x₃)"
      ]
     },
     "metadata": {},
     "output_type": "display_data"
    }
   ],
   "source": [
    "# Criando as variáveis:\n",
    "x = sp.symbols('x:'+ str(n))\n",
    "display (x)"
   ]
  },
  {
   "cell_type": "markdown",
   "metadata": {},
   "source": [
    "Digite a função usando x[i] para cada coordenada i de um elemento x do domínio:"
   ]
  },
  {
   "cell_type": "code",
   "execution_count": 101,
   "metadata": {},
   "outputs": [],
   "source": [
    "fx = sp.Abs(2*x[0]+6) + 2*sp.Abs(x[1]-5) # Ponto mínimo = (-3, 5)"
   ]
  },
  {
   "cell_type": "code",
   "execution_count": 109,
   "metadata": {},
   "outputs": [
    {
     "name": "stdout",
     "output_type": "stream",
     "text": [
      "new_xk = [-0.29234275  0.21227845] , ||xk-new_xk||² = 2.0000352571090176\n",
      "new_xk = [-1.29231972  1.2122484 ] , ||xk-new_xk||² = 1.9998938448158476\n",
      "new_xk = [-2.29235204  2.21219607] , ||xk-new_xk||² = 1.9999599889179809\n",
      "new_xk = [-3.          3.21223563] , ||xk-new_xk||² = 1.500844746069757\n",
      "new_xk = [-3.          4.21226426] , ||xk-new_xk||² = 1.0000572679412938\n",
      "new_xk = [-3.00000857  4.99995983] , ||xk-new_xk||² = 0.6204643025807598\n",
      "new_xk = [-2.9999999   4.99997746] , ||xk-new_xk||² = 3.862050568815999e-10\n"
     ]
    }
   ],
   "source": [
    "# Método Ponto Proximal Escalar (Rn -> R1)\n",
    "\n",
    "error = 10**(-4)\n",
    "new_xk = []\n",
    "for j in range (0, n):\n",
    "        new_xk.append(2*rd.random()-1.0) # r.random() retorna um real entre 0 e 1\n",
    "\n",
    "while True:\n",
    "    xk = new_xk # Se xk != new_xk, xk recebe new_xk e fazemos mais um passo\n",
    "    \n",
    "    # Criando fk e lambdificando para passar para o optimize do Scipy\n",
    "    fk = fx\n",
    "    for j in range (0,n):\n",
    "        fk += (x[j]-new_xk[j])**2\n",
    "    fk_func = sp.lambdify([x], fk,'numpy')\n",
    "    \n",
    "    # Criando um x0 inicial aleatório para a otimização quadrática de fk\n",
    "    x0 = []\n",
    "    for j in range (0, n):\n",
    "        x0.append(2*rd.random()-1.0) # r.random() retorna um real entre 0 e 1\n",
    "    \n",
    "    # Realizamos a minimização de fk e new_xk recebe a solução\n",
    "    new_xk = opt.minimize(fk_func, x0, method='nelder-mead').x\n",
    "    \n",
    "    # Printando o new_xk encontrado e a norma quadrada da diferença com o xk \n",
    "    print ('new_xk =',new_xk,', ||xk-new_xk||² =',squared_norm(vec_sub(xk,new_xk)))\n",
    "    \n",
    "    if (squared_norm(vec_sub(xk,new_xk)) <= error**2):\n",
    "        break"
   ]
  },
  {
   "cell_type": "code",
   "execution_count": null,
   "metadata": {},
   "outputs": [],
   "source": []
  }
 ],
 "metadata": {
  "kernelspec": {
   "display_name": "Python 3",
   "language": "python",
   "name": "python3"
  },
  "language_info": {
   "codemirror_mode": {
    "name": "ipython",
    "version": 3
   },
   "file_extension": ".py",
   "mimetype": "text/x-python",
   "name": "python",
   "nbconvert_exporter": "python",
   "pygments_lexer": "ipython3",
   "version": "3.8.5"
  }
 },
 "nbformat": 4,
 "nbformat_minor": 4
}
