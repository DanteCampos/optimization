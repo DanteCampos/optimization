{
 "cells": [
  {
   "cell_type": "code",
   "execution_count": 2,
   "metadata": {},
   "outputs": [],
   "source": [
    "import sympy as sp\n",
    "import numpy as np\n",
    "import scipy.optimize as opt\n",
    "from copy import copy\n",
    "import random as rd\n",
    "from matplotlib import pyplot as plt\n",
    "sp.init_printing(use_latex=\"mathjax\")\n",
    "\n",
    "# Retornar o produto escalar de dois vetores\n",
    "def dot_product (v1: list, v2: list):\n",
    "    result = 0.0\n",
    "    \n",
    "    if len(v1) == len (v2):\n",
    "        for i in range (0, len(v1)):\n",
    "            result += v1[i]*v2[i]\n",
    "    \n",
    "    return result\n",
    "\n",
    "# Retornar a norma ao quadrado de um vetor\n",
    "def squared_norm (Xn: list):\n",
    "    return dot_product(Xn, Xn)\n",
    "\n",
    "# Retornar o vetor v1-v2\n",
    "def vec_sub (v1: list, v2: list):\n",
    "    result = []\n",
    "    if (len(v1) == len (v2)):\n",
    "        for i in range (0, len(v1)):\n",
    "            result.append(v1[i]-v2[i])\n",
    "    \n",
    "    return result"
   ]
  },
  {
   "cell_type": "markdown",
   "metadata": {},
   "source": [
    "Digite quantas dimensões tem o domínio da função:"
   ]
  },
  {
   "cell_type": "code",
   "execution_count": 22,
   "metadata": {},
   "outputs": [],
   "source": [
    "n = 2"
   ]
  },
  {
   "cell_type": "code",
   "execution_count": 23,
   "metadata": {},
   "outputs": [
    {
     "data": {
      "text/latex": [
       "$\\displaystyle \\left( x_{0}, \\  x_{1}\\right)$"
      ],
      "text/plain": [
       "(x₀, x₁)"
      ]
     },
     "metadata": {},
     "output_type": "display_data"
    }
   ],
   "source": [
    "# Criando as variáveis:\n",
    "x = sp.symbols('x:'+ str(n))\n",
    "display (x)"
   ]
  },
  {
   "cell_type": "markdown",
   "metadata": {},
   "source": [
    "Digite a função usando x[i] para cada coordenada i de um elemento x do domínio:"
   ]
  },
  {
   "cell_type": "code",
   "execution_count": 24,
   "metadata": {},
   "outputs": [],
   "source": [
    "fx = sp.Abs(2*x[0]+6) + 2*sp.Abs(x[1]-5) # Ponto mínimo = (-3, 5)"
   ]
  },
  {
   "cell_type": "code",
   "execution_count": 25,
   "metadata": {},
   "outputs": [
    {
     "name": "stdout",
     "output_type": "stream",
     "text": [
      "new_xk = [-1.10929517  1.95887511] , ||xk-new_xk||² = 1.9999876057740942\n",
      "new_xk = [-2.10930173  2.95884598] , ||xk-new_xk||² = 1.9999548597708374\n",
      "new_xk = [-3.         3.9588719] , ||xk-new_xk||² = 1.793395257258807\n",
      "new_xk = [-2.99999999  4.9588269 ] , ||xk-new_xk||² = 0.9999100056650495\n",
      "new_xk = [-3.00002704  5.00003683] , ||xk-new_xk||² = 0.0016982593309889773\n",
      "new_xk = [-3.00002901  4.99997086] , ||xk-new_xk||² = 4.356081345593997e-09\n"
     ]
    }
   ],
   "source": [
    "# Método Ponto Proximal Escalar (Rn -> R1)\n",
    "\n",
    "error = 10**(-4)\n",
    "new_xk = []\n",
    "for j in range (0, n):\n",
    "        new_xk.append(2*rd.random()-1.0) # r.random() retorna um real entre 0 e 1\n",
    "\n",
    "walk = [] # Lista com todos os pontos gerados no caminhamento\n",
    "while True:\n",
    "    xk = new_xk # Se xk != new_xk, xk recebe new_xk e fazemos mais um passo\n",
    "    \n",
    "    walk.append(xk) # Salvando o caminhamento\n",
    "    \n",
    "    # Criando fk e lambdificando para passar para o optimize do Scipy\n",
    "    fk = fx\n",
    "    for j in range (0,n):\n",
    "        fk += (x[j]-new_xk[j])**2\n",
    "    fk_func = sp.lambdify([x], fk,'numpy')\n",
    "    \n",
    "    # Criando um x0 inicial aleatório para a otimização quadrática de fk\n",
    "    x0 = []\n",
    "    for j in range (0, n):\n",
    "        x0.append(2*rd.random()-1.0) # r.random() retorna um real entre 0 e 1\n",
    "    \n",
    "    # Realizamos a minimização de fk e new_xk recebe a solução\n",
    "    new_xk = opt.minimize(fk_func, x0, method='nelder-mead').x\n",
    "    \n",
    "    # Printando o new_xk encontrado e a norma quadrada da diferença com o xk \n",
    "    print ('new_xk =',new_xk,', ||xk-new_xk||² =',squared_norm(vec_sub(xk,new_xk)))\n",
    "    \n",
    "    if (squared_norm(vec_sub(xk,new_xk)) <= error**2):\n",
    "        break"
   ]
  },
  {
   "cell_type": "code",
   "execution_count": 30,
   "metadata": {},
   "outputs": [],
   "source": [
    "# Para abrir a janela interativa do matplotlib, use:\n",
    "%matplotlib qt \n",
    "\n",
    "# Plot 2D para funções com domínio R1\n",
    "if n == 1:\n",
    "    plt.figure()\n",
    "    plt.xlabel(\"x\")\n",
    "    plt.ylabel(\"f(x)\")\n",
    "    \n",
    "    fx_func = sp.lambdify(x, fx,'numpy')\n",
    "    f_x_axis = np.linspace(-5,5,100)\n",
    "    f_y_axis = fx_func(f_x_axis)\n",
    "    plt.plot (f_x_axis, f_y_axis, linestyle = '-')\n",
    "    \n",
    "    walk_x_axis = []\n",
    "    walk_y_axis = []\n",
    "    \n",
    "    # Plotando as caminhadas\n",
    "    for j in range (0,len(walk)):\n",
    "        walk_x_axis.append(walk[j][0])\n",
    "        walk_y_axis.append(fx_func(walk[j][0]))\n",
    "    plt.plot (walk_x_axis, walk_y_axis, marker = 'o', linestyle = '-')\n",
    "    \n",
    "    # Plotando:\n",
    "    plt.show()\n",
    "\n",
    "# Plot 3D para funções com domínio R2\n",
    "elif n == 2:\n",
    "    fig = plt.figure()\n",
    "    ax = fig.gca(projection='3d')\n",
    "    ax.set_xlabel('x1')\n",
    "    ax.set_ylabel('x2')\n",
    "    ax.set_zlabel('f(x1,x2)')\n",
    "    \n",
    "    fx_func = sp.lambdify([x], fx,'numpy')\n",
    "    f_x_axis, f_y_axis = np.meshgrid(np.linspace(-10,10,100), np.linspace(-10,10,100))\n",
    "    f_z_axis = fx_func([f_x_axis, f_y_axis])\n",
    "    ax.plot_surface(f_x_axis, f_y_axis, f_z_axis, rstride=1, cstride=1, cmap='viridis', edgecolor='none')\n",
    "    \n",
    "    walk_x_axis = []\n",
    "    walk_y_axis = []\n",
    "    walk_z_axis = []\n",
    "    \n",
    "    # Plotando as caminhadas\n",
    "    for j in range (0,len(walk)):\n",
    "        walk_x_axis.append(walk[j][0])\n",
    "        walk_y_axis.append(walk[j][1])\n",
    "        walk_z_axis.append(fx_func(walk[j]))\n",
    "    ax.plot (walk_x_axis, walk_y_axis, walk_z_axis, color = 'b', marker = 'o', linestyle = '-')\n",
    "\n",
    "    # Plotando:\n",
    "    plt.show()"
   ]
  },
  {
   "cell_type": "code",
   "execution_count": null,
   "metadata": {},
   "outputs": [],
   "source": []
  }
 ],
 "metadata": {
  "kernelspec": {
   "display_name": "Python 3",
   "language": "python",
   "name": "python3"
  },
  "language_info": {
   "codemirror_mode": {
    "name": "ipython",
    "version": 3
   },
   "file_extension": ".py",
   "mimetype": "text/x-python",
   "name": "python",
   "nbconvert_exporter": "python",
   "pygments_lexer": "ipython3",
   "version": "3.8.5"
  }
 },
 "nbformat": 4,
 "nbformat_minor": 4
}
