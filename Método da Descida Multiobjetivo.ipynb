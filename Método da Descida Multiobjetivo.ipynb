{
 "cells": [
  {
   "cell_type": "code",
   "execution_count": 1,
   "metadata": {},
   "outputs": [],
   "source": [
    "import sympy as sp\n",
    "import numpy as np\n",
    "import scipy.optimize as opt\n",
    "from copy import copy\n",
    "import random as rd\n",
    "from matplotlib import pyplot as plt\n",
    "sp.init_printing(use_latex=\"mathjax\")"
   ]
  },
  {
   "cell_type": "code",
   "execution_count": 2,
   "metadata": {},
   "outputs": [],
   "source": [
    "# Funções necessárias:\n",
    "\n",
    "# Aplicar ponto numa função vetorial e retornar o vetor\n",
    "def point_in_func (func: list, symbols: list, point: list):\n",
    "    func_in_point = []\n",
    "    for i in range(0, len(func)):\n",
    "        func_in_point.append(copy(func[i]))\n",
    "        for j in range (0, len(symbols)):\n",
    "            func_in_point[i] = func_in_point[i].subs(symbols[j], point[j])\n",
    "            \n",
    "    return func_in_point\n",
    "\n",
    "# Retornar novo vetor Xn\n",
    "def get_new_Xn (Xn: list, step_size, direction: list):\n",
    "    new_Xn = []\n",
    "    for i in range (0, len(Xn)):\n",
    "        new_Xn.append( Xn[i] + step_size*direction[i] )\n",
    "    return new_Xn\n",
    "\n",
    "# Retornar o produto escalar de dois vetores\n",
    "def dot_product (v1: list, v2: list):\n",
    "    result = 0.0\n",
    "    \n",
    "    if len(v1) == len (v2):\n",
    "        for i in range (0, len(v1)):\n",
    "            result += v1[i]*v2[i]\n",
    "    \n",
    "    return result\n",
    "\n",
    "# Retornar a norma ao quadrado de um vetor\n",
    "def squared_norm (Xn: list):\n",
    "    return dot_product(Xn, Xn)\n",
    "\n",
    "# Comparar se v1 <= v2, verdadeiro quando v1[i] <= v2[i], para todo i no intervalo [0, min(dim(v1), dim(v2)) )\n",
    "def vector_leq(v1: list, v2: list):\n",
    "    if (len (v1) < len (v2)):\n",
    "        n = len (v1)\n",
    "    else:\n",
    "        n = len (v2)\n",
    "        \n",
    "    for i in range (0,n):\n",
    "        if not (v1[i] <= v2[i]):\n",
    "            return False\n",
    "        \n",
    "    return True"
   ]
  },
  {
   "cell_type": "markdown",
   "metadata": {},
   "source": [
    "Digite quantas dimensões tem o domínio da função:"
   ]
  },
  {
   "cell_type": "code",
   "execution_count": 3,
   "metadata": {},
   "outputs": [],
   "source": [
    "n = 4"
   ]
  },
  {
   "cell_type": "code",
   "execution_count": 4,
   "metadata": {},
   "outputs": [
    {
     "data": {
      "text/latex": [
       "$\\displaystyle \\left( x_{0}, \\  x_{1}, \\  x_{2}, \\  x_{3}\\right)$"
      ],
      "text/plain": [
       "(x₀, x₁, x₂, x₃)"
      ]
     },
     "metadata": {},
     "output_type": "display_data"
    }
   ],
   "source": [
    "# Criando as variáveis:\n",
    "x = sp.symbols('x:'+ str(n))\n",
    "display (x)"
   ]
  },
  {
   "cell_type": "code",
   "execution_count": 5,
   "metadata": {},
   "outputs": [],
   "source": [
    "# Problemas prontos:\n",
    "\n",
    "# n = 1\n",
    "if n == 1:\n",
    "    AP2 = [\n",
    "        x[0] ** 2 - 4.0,\n",
    "        ( x[0] - 1.0 ) ** 2\n",
    "    ]\n",
    "\n",
    "    DGO1 = [\n",
    "        sp.sin(x[0]),\n",
    "        sp.sin(x[0]+0.7e0)\n",
    "    ]\n",
    "\n",
    "    DGO2 = [\n",
    "        x[0] ** 2,\n",
    "        9.0e0 - sp.sqrt( 8.1e1 - x[0] ** 2 )\n",
    "    ]\n",
    "\n",
    "    MLF1 = [\n",
    "        ( 1.0e0 + x[0] / 2.0e1 ) * sp.sin( x[0] ),\n",
    "        ( 1.0e0 + x[0] / 2.0e1 ) * sp.cos( x[0] )\n",
    "    ]\n",
    "\n",
    "    MOP1 = [\n",
    "        x[0]**2,\n",
    "        (x[0]-2.0e0)**2\n",
    "    ]\n",
    "\n",
    "    SSFYY2 = [\n",
    "        1.0e1 + x[0] ** 2 - 1.0e1 * sp.cos( x[0] * sp.pi / 2.0e0 ),\n",
    "        ( x[0] - 4.0e0 ) ** 2\n",
    "    ]\n",
    "\n",
    "    SK1 = [\n",
    "        -(- x[0] ** 4 - 3.0e0 * x[0] ** 3 + 1.0e1 * x[0] ** 2 + 1.0e1 * x[0] + 1.0e1),\n",
    "        -(- 0.5e0 * x[0] ** 4 + 2.0e0 * x[0] ** 3 + 1.0e1 * x[0] ** 2 - 1.0e1 * x[0] + 5.0e0)\n",
    "    ]\n",
    "\n",
    "# n = 2\n",
    "elif n == 2:\n",
    "    AP1 = [\n",
    "        0.25 * ( ( x[0] - 1.0 ) ** 4 + 2.0 * ( x[1] - 2.0 ) ** 4 ),\n",
    "        sp.exp( ( x[0] + x[1] ) / 2.0 ) + x[0] ** 2 + x[1] ** 2,\n",
    "        1.0/6.0 * ( sp.exp( - x[0] ) + 2.0 * sp.exp( - x[1] ) )\n",
    "    ]\n",
    "\n",
    "    AP3 = [\n",
    "        0.25 * ( ( x[0] - 1.0 ) ** 4 + 2.0 * ( x[1] - 2.0 ) ** 4 ),\n",
    "        ( x[1] - x[0] ** 2 ) ** 2 + ( 1.0 - x[0] ) ** 2\n",
    "    ]\n",
    "\n",
    "    BK1 = [\n",
    "        x[0] ** 2 + x[1] ** 2,\n",
    "        (x[0] - 5.0 ) ** 2 + ( x[1] - 5.0 ) ** 2\n",
    "    ]\n",
    "\n",
    "    FAR1 = [\n",
    "        - 2.0e0 * sp.exp( 1.5e1 * ( - ( x[0] - 0.1e0 ) ** 2 - x[1] ** 2 ) ) - sp.exp( 2.0e1 * ( - ( x[0] - 0.6e0 ) ** 2 - ( x[1] - 0.6e0 ) ** 2 ) ) + sp.exp( 2.0e1 * ( - ( x[0] + 0.6e0 ) ** 2 - ( x[1] - 0.6e0 ) ** 2 ) ) + sp.exp( 2.0e1 * ( - ( x[0] - 0.6e0 ) ** 2 - ( x[1] + 0.6e0 ) ** 2 ) ) + sp.exp( 2.0e1 * ( - ( x[0] + 0.6e0 ) ** 2 - ( x[1] + 0.6e0 ) ** 2 ) ),\n",
    "        2.0e0 * sp.exp( 2.0e1 * ( - x[0] ** 2 - x[1] ** 2 ) ) + sp.exp( 2.0e1 * ( - ( x[0] - 0.4e0 ) ** 2 - ( x[1] - 0.6e0 ) ** 2 ) ) - sp.exp( 2.0e1 * ( - ( x[0] + 0.5e0 ) ** 2 - ( x[1] - 0.7e0 ) ** 2 ) ) - sp.exp( 2.0e1 * ( - ( x[0] - 0.5e0 ) ** 2 - ( x[1] + 0.7e0 ) ** 2 ) ) + sp.exp( 2.0e1 * ( - ( x[0] + 0.4e0 ) ** 2 - ( x[1] + 0.8e0 ) ** 2 ) ) \n",
    "    ]\n",
    "\n",
    "    FF1 = [\n",
    "        1.0e0 - sp.exp( - ( x[0] - 1.0e0 ) ** 2 - ( x[1] + 1.0e0 ) ** 2 ),\n",
    "        1.0e0 - sp.exp( - ( x[0] + 1.0e0 ) ** 2 - ( x[1] - 1.0e0 ) ** 2 )\n",
    "    ]\n",
    "\n",
    "    HIL1 = [\n",
    "        sp.cos(x[0] + sp.pi)*(1 * 0.5*sp.cos(2*sp.pi*x[0])),\n",
    "        sp.sin(x[0] + sp.pi)*(1 * 0.5*sp.cos(2*sp.pi*x[0]))\n",
    "    ]\n",
    "\n",
    "    IKK1 = [\n",
    "        x[0]**2,\n",
    "        (x[0]-2.0e1)**2,\n",
    "        x[1]**2\n",
    "    ]\n",
    "    \n",
    "    # IM1 dá erro por comparação com número imaginário\n",
    "    IM1 = [\n",
    "        2.0e0 * sp.sqrt(x[0]),\n",
    "        x[0]*(1.0e0 - x[1]) + 5.0e0\n",
    "    ]\n",
    "\n",
    "    KW2 = [\n",
    "        - 3.0e0 * ( 1.0e0 - x[0] )**2 * sp.exp( -x[0]**2 - ( x[1] + 1.0e0 ) ** 2 ) + 1.0e1 * ( x[0] / 5.0e0 - x[0]**3 - x[1]**5 ) * sp.exp( - x[0]**2 - x[1]**2 ) + 3.0e0 * sp.exp( -( x[0] + 2.0e0 )**2 - x[1]**2 ) - 0.5e0 * ( 2.0e0 * x[0] + x[1] ),\n",
    "        - 3.0e0 * ( 1.0e0 + x[1] )**2 * sp.exp( -x[1]**2 - ( 1.0e0 - x[0] ) ** 2 ) + 1.0e1 * ( - x[1] / 5.0e0 + x[1]**3 + x[0]**5 ) * sp.exp( - x[0]**2 - x[1]**2 ) + 3.0e0 * sp.exp( -( 2.0e0 - x[1] )**2 - x[0]**2 ) \n",
    "    ]\n",
    "\n",
    "    LE1 = [\n",
    "        (x[0] ** 2 + x[1] ** 2 ) ** 0.125e0,\n",
    "        ( ( x[0] - 0.5e0 ) ** 2 + ( x[1] - 0.5e0 ) ** 2 ) ** 0.25e0\n",
    "    ]\n",
    "\n",
    "    LOV1 = [\n",
    "        - ( -1.05e0 * x[0] ** 2 - 0.98e0 * x[1] ** 2 ),\n",
    "        - ( -0.99e0 * ( x[0] - 3.0e0 ) ** 2 - 1.03e0 * ( x[1] - 2.5e0 ) ** 2 )\n",
    "    ]\n",
    "\n",
    "    LOV2 = [\n",
    "        x[1],\n",
    "        - ( x[1] - x[0] ** 3 ) / ( x[0] + 1.0e0 )\n",
    "    ]\n",
    "\n",
    "    LOV3 = [\n",
    "         - ( - x[0] ** 2 - x[1] ** 2 ),\n",
    "        - ( - ( x[0] - 6.0e0 ) ** 2 + ( x[1] + 0.3e0 ) ** 2 )\n",
    "    ]\n",
    "\n",
    "    LOV4 = [\n",
    "        -(- x[0] ** 2 - x[1] ** 2 - 4.0e0 * ( sp.exp( - ( x[0] + 2.0e0 ) ** 2 - x[1] ** 2 ) +sp.exp( - ( x[0] - 2.0e0 ) ** 2 - x[1] ** 2 ) )),\n",
    "        -(- ( x[0] - 6.0e0 ) ** 2 - ( x[1] + 0.5e0 ) ** 2)\n",
    "    ]\n",
    "\n",
    "    MHHM2 = [\n",
    "        ( x[0] - 0.8e0 ) ** 2 + ( x[1] - 0.6e0 ) ** 2,\n",
    "        ( x[0] - 0.85e0 ) ** 2 + ( x[1] - 0.7e0 ) ** 2,\n",
    "        ( x[0] - 0.9e0 ) ** 2 + ( x[1] - 0.6e0 ) ** 2\n",
    "    ]\n",
    "\n",
    "    MLF2 = [\n",
    "        -(5.0e0 - ( ( x[0] ** 2 + x[1] - 1.1e1 ) ** 2 + ( x[0] + x[1] ** 2 - 7.0e0 ) ** 2 ) / 2.0e2),\n",
    "        -(5.0e0 - ( ( 4.0e0 * x[0] ** 2 + 2.0e0 * x[1] - 1.1e1 ) ** 2 + ( 2.0e0 * x[0] + 4.0e0 *  x[1] ** 2 - 7.0e0 ) ** 2 ) / 2.0e2)\n",
    "    ]\n",
    "\n",
    "    MMR2 = [\n",
    "        x[0],\n",
    "        (1.0e0 + 1.0e1 * x[1]) * (1.0e0 - (x[0] / (1.0e0 + 1.0e1 * x[1])) ** 2 - (x[0] / (1.0e0 + 1.0e1 * x[1])) * sp.sin( 8.0e0 * sp.pi * x[0] ))\n",
    "    ]\n",
    "\n",
    "    MMR3 = [\n",
    "        x[0]**3,\n",
    "        (x[1]-x[0])**3\n",
    "    ]\n",
    "\n",
    "    MOP3 = [\n",
    "        -(- 1.0e0 - ( (0.5e0 * sp.sin(1.0e0) - 2.0e0 * sp.cos(1.0e0) + sp.sin(2.0e0) - 1.5e0 * sp.cos(2.0e0)) - (0.5e0 * sp.sin(x[0]) - 2.0e0 * sp.cos(x[0]) + sp.sin(x[1]) - 1.5e0 * sp.cos(x[1])) ) ** 2 - ( (1.5e0 * sp.sin(1.0e0) - sp.cos(1.0e0) + 2.0e0 * sp.sin(2.0e0) - 0.5e0 * sp.cos(2.0e0)) - (1.5e0 * sp.sin(x[0]) - sp.cos(x[0]) + 2.0e0 * sp.sin(x[1]) - 0.5e0 * sp.cos(x[1])) ) ** 2),\n",
    "        -(- ( x[0] + 3.0e0 ) ** 2 - ( x[1] + 1.0e0 ) ** 2)\n",
    "    ]\n",
    "\n",
    "    MOP5 = [\n",
    "        0.5e0 * ( x[0] ** 2 + x[1] ** 2 ) + sp.sin( x[0] ** 2 + x[1] ** 2 ),\n",
    "        ( 3.0e0 * x[0] - 2.0e0 * x[1] + 4.0e0 ) ** 2 / 8.0e0 + ( x[0] - x[1] + 1.0e0 ) ** 2 / 2.7e1 + 1.5e1,\n",
    "        1.0e0 / ( x[0] ** 2 + x[1] ** 2 + 1.0e0 ) - 1.1e0 * sp.exp( - x[0] ** 2 - x[1] ** 2)\n",
    "    ]\n",
    "\n",
    "    MOP6 = [\n",
    "        x[0],\n",
    "        1.0e0 + 1.0e1 * x[1] * ( 1.0e0 - (x[0] / 1.0e0 + 1.0e1 * x[1]) ** 2 - (x[0] / 1.0e0 + 1.0e1 * x[1]) * sp.sin( 8.0e0 * sp.pi * x[0] ) )\n",
    "    ]\n",
    "\n",
    "    MOP7 = [\n",
    "        ( x[0] - 2.0e0 ) ** 2 / 2.0e0 + ( x[1] + 1.0e0 ) ** 2 / 1.3e1 + 3.0e0,\n",
    "        ( x[0] + x[1] - 3.0e0 ) ** 2 / 3.6e1 + ( - x[0] + x[1] + 2.0e0 ) ** 2 / 8.0e0 - 1.7e1,\n",
    "        ( x[0] + 2.0e0 * x[1] - 1.0e0 ) ** 2 / 1.75e2 + ( - x[0] + 2.0e0 * x[1] ) ** 2 / 1.7e1 - 1.3e1\n",
    "    ]\n",
    "\n",
    "    PNR = [\n",
    "        x[0] ** 4 + x[1] ** 4 - x[0] ** 2 + x[1] ** 2 - 1.0e1 * x[0] * x[1] + 2.0e1,\n",
    "        x[0] ** 2 + x[1] ** 2\n",
    "    ]\n",
    "\n",
    "    SLCDT1 = [\n",
    "        0.5e0 * ( sp.sqrt( 1.0e0 + ( x[0] + x[1] ) ** 2 ) + sp.sqrt( 1.0e0 + ( x[0] - x[1] ) ** 2 ) + x[0] - x[1] ) + 0.85e0 * sp.exp( - ( x[0] + x[1] ) ** 2 ),\n",
    "        0.5e0 * ( sp.sqrt( 1.0e0 + ( x[0] + x[1] ) ** 2 ) + sp.sqrt( 1.0e0 + ( x[0] - x[1] ) ** 2 ) - x[0] + x[1] ) + 0.85e0 * sp.exp( - ( x[0] + x[1] ) ** 2 )\n",
    "    ]\n",
    "\n",
    "    SP1 = [\n",
    "        ( x[0] - 1.0e0 ) ** 2 + ( x[0] - x[1]) ** 2,\n",
    "        ( x[1] - 3.0e0 ) ** 2 + ( x[0] - x[1] ) ** 2\n",
    "    ]\n",
    "\n",
    "    VU1 = [\n",
    "        1.0e0 / ( x[0] ** 2 + x[1] ** 2 + 1.0e0 ),\n",
    "        x[0] ** 2 + 3.0e0 * x[1] ** 2 + 1.0e0\n",
    "    ]\n",
    "\n",
    "    VU2 = [\n",
    "        x[0] + x[1] + 1.0e0,\n",
    "        x[0] ** 2 + 2.0e0 * x[1] - 1.0e0\n",
    "    ]\n",
    "\n",
    "# n = 3\n",
    "elif n == 3:\n",
    "    # AP4 demora para plotar\n",
    "    AP4 = [\n",
    "        1.0/9.0 * ( ( x[0] - 1.0 ) ** 4 + 2.0 * ( x[1] - 2.0 ) ** 4 + 3.0 * ( x[2] - 3.0 ) ** 4 ),\n",
    "        sp.exp( ( x[0] + x[1] + x[2] ) / 3.0 ) + x[0] ** 2 + x[1] ** 2 + x[2] ** 2,\n",
    "        1.0/1.2e1 * ( 3.0 * sp.exp( -x[0] ) + 4.0 * sp.exp( - x[1] ) + 3.0 * sp.exp( -x[2] ) )\n",
    "    ]\n",
    "    \n",
    "    # FA1 dá erro por comparação com número imaginário\n",
    "    FA1 = [\n",
    "        ( 1.0e0 - sp.exp( -4.0e0 * x[0] ) ) / ( 1.0e0 - sp.exp( -4.0e0 ) ),\n",
    "        ( x[1] + 1.0e0 ) * ( 1.0e0 - ( (1.0e0 - sp.exp( -4.0e0 * x[0] ) ) / ( 1.0e0 - sp.exp( -4.0e0 )) / ( x[1] + 1.0e0  ) ) ** 0.5e0 ),\n",
    "        ( x[2] + 1.0e0 ) * ( 1.0e0 - ( (1.0e0 - sp.exp( -4.0e0 * x[0] ) ) / ( 1.0e0 - sp.exp( -4.0e0 )) / ( x[2] + 1.0e0  ) ) ** 0.1e0 )\n",
    "    ]\n",
    "    \n",
    "    # LTDZ dá muitas iterações e demora para plotar\n",
    "    LTDZ = [\n",
    "        -(3.0e0 - ( 1.0e0 + x[2] ) * sp.cos( x[0] * sp.pi / 2.0e0 ) * sp.cos( x[1] * sp.pi / 2.0e0 )),\n",
    "        -(3.0e0 - ( 1.0e0 + x[2] ) * sp.cos( x[0] * sp.pi / 2.0e0 ) * sp.sin( x[1] * sp.pi / 2.0e0 )),\n",
    "        -(3.0e0 - ( 1.0e0 + x[2] ) * sp.cos( x[0] * sp.pi / 2.0e0 ) * sp.sin( x[0] * sp.pi / 2.0e0 ))\n",
    "    ]\n",
    "    \n",
    "    # MMR1 dá muitas iterações\n",
    "    MMR1 = [\n",
    "        x[0],\n",
    "        (2.0e0 - 0.8e0 * sp.exp( - ( ( x[1] - 0.6e0 ) / 0.4e0 ) ** 2 ) - sp.exp( - ( ( x[2] - 0.2e0 ) / 0.04e0 ) ** 2 ))/x[0]\n",
    "    ]\n",
    "    \n",
    "    # MMR4 dá muitas iterações\n",
    "    MMR4 = [\n",
    "        x[0] - 2.0e0 * x[1] - x[2] - 3.6e1 / ( 2.0e0 * x[0] + x[1] + 2.0e0 * x[2] + 1.0e0 ),\n",
    "        - 3.0e0 * x[0] + x[1] - x[2]\n",
    "    ]\n",
    "\n",
    "# n = 4\n",
    "elif n == 4:\n",
    "    # SD dá muitas iterações e tem um resultado estranho e diferente do artigo do Leandro\n",
    "    SD = [\n",
    "        2.0e0 * x[0] + sp.sqrt(2.0e0) * ( x[1] + x[2] ) + x[3],\n",
    "        2.0e0 / x[0] + 2.0e0 * sp.sqrt(2.0e0) / x[1] + 2.0e0 * sp.sqrt(2.0e0) / x[2] + 2.0e0 / x[3]\n",
    "    ]\n",
    "\n",
    "    SK2 = [\n",
    "        - (( x[0] - 2.0e0 ) ** 2 - ( x[1] + 3.0e0 ) ** 2 - ( x[2] - 5.0e0 ) ** 2 - ( x[3] - 4.0e0 ) ** 2 + 5.0e0),\n",
    "        -(( sp.sin( x[0] ) + sp.sin( x[1] ) + sp.sin( x[2] ) + sp.sin( x[3] ) ) / ( 1.0e0 + ( x[0] ** 2 + x[1] ** 2 + x[2] ** 2 + x[3] ** 2 ) / 1.0e2 ))\n",
    "    ]\n",
    "    \n",
    "    # TKLY1 dá muitas iterações\n",
    "    TKLY1 = [\n",
    "        x[0],\n",
    "        ( 2.0e0 - sp.exp( - ( ( x[1] - 0.1e0 ) / 4.0e-3 ) ** 2 ) - 0.8e0 * sp.exp( - ( ( x[1] - 0.9e0 ) / 4.0e-1 ) ** 2 ) ) * ( 2.0e0 - sp.exp( - ( ( x[2] - 0.1e0 ) / 4.0e-3 ) ** 2 ) - 0.8e0 * sp.exp( - ( ( x[2] - 0.9e0 ) / 4.0e-1 ) ** 2 ) ) * ( 2.0e0 - sp.exp( - ( ( x[3] - 0.1e0 ) / 4.0e-3 ) ** 2 ) - 0.8e0 * sp.exp( - ( ( x[3] - 0.9e0 ) / 4.0e-1 ) ** 2 ) ) / x[0]\n",
    "    ]\n",
    "\n",
    "    TOI4 = [\n",
    "        x[0] ** 2 + x[1] ** 2 + 1.0e0,\n",
    "        0.5e0 * ( ( x[0] - x[1] ) ** 2 + ( x[2] - x[3] ) ** 2  ) + 1.0e0\n",
    "    ]\n",
    "\n",
    "# n = 5\n",
    "elif n == 5:\n",
    "    DD1 = [\n",
    "        x[0] ** 2 + x[1] ** 2 + x[2] ** 2 + x[3] ** 2 + x[4] ** 2,\n",
    "        3.0e0 * x[0] + 2.0e0 * x[1] - x[2] / 3.0e0 + 1.0e-2 * ( x[3] - x[4] ) ** 3\n",
    "    ]\n",
    "\n",
    "# n = 6\n",
    "elif n == 6:\n",
    "    # LOV6 dá erro por comparação com número imaginário\n",
    "    LOV6 = [\n",
    "        x[0],\n",
    "        1.0e0 - sp.sqrt( x[0] ) - x[0] * sp.sin( 1.0e1 * sp.pi * x[0] ) + x[1] ** 2 + x[2] ** 2 + x[3] ** 2 + x[4] ** 2 + x[5] ** 2\n",
    "    ]"
   ]
  },
  {
   "cell_type": "markdown",
   "metadata": {},
   "source": [
    "Digite as funções que compõem Fx, dentro de um colchete [ ] e separadas por vírgulas ( , ), denotando x0, x1, x2... como x[0], x[1], x[2]...\n",
    "\n",
    "Ou escolha um dos problemas prontos, como, por exemplo: components = DD1 (lembre-se que n deve ser compatível com o problema)"
   ]
  },
  {
   "cell_type": "code",
   "execution_count": 6,
   "metadata": {},
   "outputs": [],
   "source": [
    "components = SK2"
   ]
  },
  {
   "cell_type": "code",
   "execution_count": 7,
   "metadata": {},
   "outputs": [
    {
     "name": "stdout",
     "output_type": "stream",
     "text": [
      "Fx:\n"
     ]
    },
    {
     "data": {
      "text/latex": [
       "$\\displaystyle \\left[\\begin{matrix}- 4.0 \\left(0.5 x_{0} - 1\\right)^{2} + 9.0 \\left(0.333333333333333 x_{1} + 1\\right)^{2} + 25.0 \\left(0.2 x_{2} - 1\\right)^{2} + 16.0 \\left(0.25 x_{3} - 1\\right)^{2} - 5.0\\\\- \\frac{\\sin{\\left(x_{0} \\right)} + \\sin{\\left(x_{1} \\right)} + \\sin{\\left(x_{2} \\right)} + \\sin{\\left(x_{3} \\right)}}{0.01 x_{0}^{2} + 0.01 x_{1}^{2} + 0.01 x_{2}^{2} + 0.01 x_{3}^{2} + 1.0}\\end{matrix}\\right]$"
      ],
      "text/plain": [
       "⎡                  2                                 2                    2   \n",
       "⎢- 4.0⋅(0.5⋅x₀ - 1)  + 9.0⋅(0.333333333333333⋅x₁ + 1)  + 25.0⋅(0.2⋅x₂ - 1)  + \n",
       "⎢                                                                             \n",
       "⎢                              -(sin(x₀) + sin(x₁) + sin(x₂) + sin(x₃))       \n",
       "⎢                           ───────────────────────────────────────────────   \n",
       "⎢                                  2          2          2          2         \n",
       "⎣                           0.01⋅x₀  + 0.01⋅x₁  + 0.01⋅x₂  + 0.01⋅x₃  + 1.0   \n",
       "\n",
       "                  2      ⎤\n",
       "16.0⋅(0.25⋅x₃ - 1)  - 5.0⎥\n",
       "                         ⎥\n",
       "                         ⎥\n",
       "                         ⎥\n",
       "                         ⎥\n",
       "                         ⎦"
      ]
     },
     "metadata": {},
     "output_type": "display_data"
    },
    {
     "name": "stdout",
     "output_type": "stream",
     "text": [
      "JFx (Jacobiana de Fx):\n"
     ]
    },
    {
     "data": {
      "text/latex": [
       "$\\displaystyle \\left[\\begin{matrix}4.0 - 2.0 x_{0} & 2.0 x_{1} + 6.0 & 2.0 x_{2} - 10.0 & 2.0 x_{3} - 8.0\\\\\\frac{0.02 x_{0} \\left(\\sin{\\left(x_{0} \\right)} + \\sin{\\left(x_{1} \\right)} + \\sin{\\left(x_{2} \\right)} + \\sin{\\left(x_{3} \\right)}\\right)}{\\left(0.01 x_{0}^{2} + 0.01 x_{1}^{2} + 0.01 x_{2}^{2} + 0.01 x_{3}^{2} + 1.0\\right)^{2}} - \\frac{\\cos{\\left(x_{0} \\right)}}{0.01 x_{0}^{2} + 0.01 x_{1}^{2} + 0.01 x_{2}^{2} + 0.01 x_{3}^{2} + 1.0} & \\frac{0.02 x_{1} \\left(\\sin{\\left(x_{0} \\right)} + \\sin{\\left(x_{1} \\right)} + \\sin{\\left(x_{2} \\right)} + \\sin{\\left(x_{3} \\right)}\\right)}{\\left(0.01 x_{0}^{2} + 0.01 x_{1}^{2} + 0.01 x_{2}^{2} + 0.01 x_{3}^{2} + 1.0\\right)^{2}} - \\frac{\\cos{\\left(x_{1} \\right)}}{0.01 x_{0}^{2} + 0.01 x_{1}^{2} + 0.01 x_{2}^{2} + 0.01 x_{3}^{2} + 1.0} & \\frac{0.02 x_{2} \\left(\\sin{\\left(x_{0} \\right)} + \\sin{\\left(x_{1} \\right)} + \\sin{\\left(x_{2} \\right)} + \\sin{\\left(x_{3} \\right)}\\right)}{\\left(0.01 x_{0}^{2} + 0.01 x_{1}^{2} + 0.01 x_{2}^{2} + 0.01 x_{3}^{2} + 1.0\\right)^{2}} - \\frac{\\cos{\\left(x_{2} \\right)}}{0.01 x_{0}^{2} + 0.01 x_{1}^{2} + 0.01 x_{2}^{2} + 0.01 x_{3}^{2} + 1.0} & \\frac{0.02 x_{3} \\left(\\sin{\\left(x_{0} \\right)} + \\sin{\\left(x_{1} \\right)} + \\sin{\\left(x_{2} \\right)} + \\sin{\\left(x_{3} \\right)}\\right)}{\\left(0.01 x_{0}^{2} + 0.01 x_{1}^{2} + 0.01 x_{2}^{2} + 0.01 x_{3}^{2} + 1.0\\right)^{2}} - \\frac{\\cos{\\left(x_{3} \\right)}}{0.01 x_{0}^{2} + 0.01 x_{1}^{2} + 0.01 x_{2}^{2} + 0.01 x_{3}^{2} + 1.0}\\end{matrix}\\right]$"
      ],
      "text/plain": [
       "⎡                                            4.0 - 2.0⋅x₀                     \n",
       "⎢                                                                             \n",
       "⎢ 0.02⋅x₀⋅(sin(x₀) + sin(x₁) + sin(x₂) + sin(x₃))                         cos(\n",
       "⎢────────────────────────────────────────────────── - ────────────────────────\n",
       "⎢                                                 2          2          2     \n",
       "⎢⎛       2          2          2          2      ⎞    0.01⋅x₀  + 0.01⋅x₁  + 0.\n",
       "⎣⎝0.01⋅x₀  + 0.01⋅x₁  + 0.01⋅x₂  + 0.01⋅x₃  + 1.0⎠                            \n",
       "\n",
       "                                                                     2.0⋅x₁ + \n",
       "                                                                              \n",
       "x₀)                       0.02⋅x₁⋅(sin(x₀) + sin(x₁) + sin(x₂) + sin(x₃))     \n",
       "───────────────────────  ────────────────────────────────────────────────── - \n",
       "     2          2                                                         2   \n",
       "01⋅x₂  + 0.01⋅x₃  + 1.0  ⎛       2          2          2          2      ⎞    \n",
       "                         ⎝0.01⋅x₀  + 0.01⋅x₁  + 0.01⋅x₂  + 0.01⋅x₃  + 1.0⎠    \n",
       "\n",
       "6.0                                                                           \n",
       "                                                                              \n",
       "                    cos(x₁)                       0.02⋅x₂⋅(sin(x₀) + sin(x₁) +\n",
       "───────────────────────────────────────────────  ─────────────────────────────\n",
       "       2          2          2          2                                     \n",
       "0.01⋅x₀  + 0.01⋅x₁  + 0.01⋅x₂  + 0.01⋅x₃  + 1.0  ⎛       2          2         \n",
       "                                                 ⎝0.01⋅x₀  + 0.01⋅x₁  + 0.01⋅x\n",
       "\n",
       "              2.0⋅x₂ - 10.0                                                   \n",
       "                                                                              \n",
       " sin(x₂) + sin(x₃))                         cos(x₂)                       0.02\n",
       "───────────────────── - ───────────────────────────────────────────────  ─────\n",
       "                    2          2          2          2          2             \n",
       " 2          2      ⎞    0.01⋅x₀  + 0.01⋅x₁  + 0.01⋅x₂  + 0.01⋅x₃  + 1.0  ⎛    \n",
       "₂  + 0.01⋅x₃  + 1.0⎠                                                     ⎝0.01\n",
       "\n",
       "                                       2.0⋅x₃ - 8.0                           \n",
       "                                                                              \n",
       "⋅x₃⋅(sin(x₀) + sin(x₁) + sin(x₂) + sin(x₃))                         cos(x₃)   \n",
       "───────────────────────────────────────────── - ──────────────────────────────\n",
       "                                            2          2          2          2\n",
       "   2          2          2          2      ⎞    0.01⋅x₀  + 0.01⋅x₁  + 0.01⋅x₂ \n",
       "⋅x₀  + 0.01⋅x₁  + 0.01⋅x₂  + 0.01⋅x₃  + 1.0⎠                                  \n",
       "\n",
       "                 ⎤\n",
       "                 ⎥\n",
       "                 ⎥\n",
       "─────────────────⎥\n",
       "          2      ⎥\n",
       " + 0.01⋅x₃  + 1.0⎥\n",
       "                 ⎦"
      ]
     },
     "metadata": {},
     "output_type": "display_data"
    }
   ],
   "source": [
    "# Calculando a jacobiana de uma função R2 -> R2\n",
    "\n",
    "Fx = sp.Matrix(components)\n",
    "print (\"Fx:\")\n",
    "display (Fx)\n",
    "JFx = Fx.jacobian(x)\n",
    "print (\"JFx (Jacobiana de Fx):\")\n",
    "display (JFx)"
   ]
  },
  {
   "cell_type": "code",
   "execution_count": 8,
   "metadata": {},
   "outputs": [
    {
     "name": "stdout",
     "output_type": "stream",
     "text": [
      "JFxV (JFx multiplicada pelo vetor v de n variáveis):\n"
     ]
    },
    {
     "data": {
      "text/latex": [
       "$\\displaystyle \\left[\\begin{matrix}v_{0} \\left(4.0 - 2.0 x_{0}\\right) + v_{1} \\left(2.0 x_{1} + 6.0\\right) + v_{2} \\left(2.0 x_{2} - 10.0\\right) + v_{3} \\left(2.0 x_{3} - 8.0\\right)\\\\v_{0} \\left(\\frac{0.02 x_{0} \\left(\\sin{\\left(x_{0} \\right)} + \\sin{\\left(x_{1} \\right)} + \\sin{\\left(x_{2} \\right)} + \\sin{\\left(x_{3} \\right)}\\right)}{\\left(0.01 x_{0}^{2} + 0.01 x_{1}^{2} + 0.01 x_{2}^{2} + 0.01 x_{3}^{2} + 1.0\\right)^{2}} - \\frac{\\cos{\\left(x_{0} \\right)}}{0.01 x_{0}^{2} + 0.01 x_{1}^{2} + 0.01 x_{2}^{2} + 0.01 x_{3}^{2} + 1.0}\\right) + v_{1} \\left(\\frac{0.02 x_{1} \\left(\\sin{\\left(x_{0} \\right)} + \\sin{\\left(x_{1} \\right)} + \\sin{\\left(x_{2} \\right)} + \\sin{\\left(x_{3} \\right)}\\right)}{\\left(0.01 x_{0}^{2} + 0.01 x_{1}^{2} + 0.01 x_{2}^{2} + 0.01 x_{3}^{2} + 1.0\\right)^{2}} - \\frac{\\cos{\\left(x_{1} \\right)}}{0.01 x_{0}^{2} + 0.01 x_{1}^{2} + 0.01 x_{2}^{2} + 0.01 x_{3}^{2} + 1.0}\\right) + v_{2} \\left(\\frac{0.02 x_{2} \\left(\\sin{\\left(x_{0} \\right)} + \\sin{\\left(x_{1} \\right)} + \\sin{\\left(x_{2} \\right)} + \\sin{\\left(x_{3} \\right)}\\right)}{\\left(0.01 x_{0}^{2} + 0.01 x_{1}^{2} + 0.01 x_{2}^{2} + 0.01 x_{3}^{2} + 1.0\\right)^{2}} - \\frac{\\cos{\\left(x_{2} \\right)}}{0.01 x_{0}^{2} + 0.01 x_{1}^{2} + 0.01 x_{2}^{2} + 0.01 x_{3}^{2} + 1.0}\\right) + v_{3} \\left(\\frac{0.02 x_{3} \\left(\\sin{\\left(x_{0} \\right)} + \\sin{\\left(x_{1} \\right)} + \\sin{\\left(x_{2} \\right)} + \\sin{\\left(x_{3} \\right)}\\right)}{\\left(0.01 x_{0}^{2} + 0.01 x_{1}^{2} + 0.01 x_{2}^{2} + 0.01 x_{3}^{2} + 1.0\\right)^{2}} - \\frac{\\cos{\\left(x_{3} \\right)}}{0.01 x_{0}^{2} + 0.01 x_{1}^{2} + 0.01 x_{2}^{2} + 0.01 x_{3}^{2} + 1.0}\\right)\\end{matrix}\\right]$"
      ],
      "text/plain": [
       "⎡                                                                             \n",
       "⎢                                                                             \n",
       "⎢   ⎛ 0.02⋅x₀⋅(sin(x₀) + sin(x₁) + sin(x₂) + sin(x₃))                         \n",
       "⎢v₀⋅⎜────────────────────────────────────────────────── - ────────────────────\n",
       "⎢   ⎜                                                 2          2          2 \n",
       "⎢   ⎜⎛       2          2          2          2      ⎞    0.01⋅x₀  + 0.01⋅x₁  \n",
       "⎣   ⎝⎝0.01⋅x₀  + 0.01⋅x₁  + 0.01⋅x₂  + 0.01⋅x₃  + 1.0⎠                        \n",
       "\n",
       "                                                                              \n",
       "                                                                              \n",
       "cos(x₀)                    ⎞      ⎛ 0.02⋅x₁⋅(sin(x₀) + sin(x₁) + sin(x₂) + sin\n",
       "───────────────────────────⎟ + v₁⋅⎜───────────────────────────────────────────\n",
       "         2          2      ⎟      ⎜                                           \n",
       "+ 0.01⋅x₂  + 0.01⋅x₃  + 1.0⎟      ⎜⎛       2          2          2          2 \n",
       "                           ⎠      ⎝⎝0.01⋅x₀  + 0.01⋅x₁  + 0.01⋅x₂  + 0.01⋅x₃  \n",
       "\n",
       "                    v₀⋅(4.0 - 2.0⋅x₀) + v₁⋅(2.0⋅x₁ + 6.0) + v₂⋅(2.0⋅x₂ - 10.0)\n",
       "                                                                              \n",
       "(x₃))                         cos(x₁)                    ⎞      ⎛ 0.02⋅x₂⋅(sin\n",
       "─────── - ───────────────────────────────────────────────⎟ + v₂⋅⎜─────────────\n",
       "      2          2          2          2          2      ⎟      ⎜             \n",
       "     ⎞    0.01⋅x₀  + 0.01⋅x₁  + 0.01⋅x₂  + 0.01⋅x₃  + 1.0⎟      ⎜⎛       2    \n",
       "+ 1.0⎠                                                   ⎠      ⎝⎝0.01⋅x₀  + 0\n",
       "\n",
       " + v₃⋅(2.0⋅x₃ - 8.0)                                                          \n",
       "                                                                              \n",
       "(x₀) + sin(x₁) + sin(x₂) + sin(x₃))                         cos(x₂)           \n",
       "───────────────────────────────────── - ──────────────────────────────────────\n",
       "                                    2          2          2          2        \n",
       "      2          2          2      ⎞    0.01⋅x₀  + 0.01⋅x₁  + 0.01⋅x₂  + 0.01⋅\n",
       ".01⋅x₁  + 0.01⋅x₂  + 0.01⋅x₃  + 1.0⎠                                          \n",
       "\n",
       "                                                                              \n",
       "                                                                              \n",
       "         ⎞      ⎛ 0.02⋅x₃⋅(sin(x₀) + sin(x₁) + sin(x₂) + sin(x₃))             \n",
       "─────────⎟ + v₃⋅⎜────────────────────────────────────────────────── - ────────\n",
       "  2      ⎟      ⎜                                                 2          2\n",
       "x₃  + 1.0⎟      ⎜⎛       2          2          2          2      ⎞    0.01⋅x₀ \n",
       "         ⎠      ⎝⎝0.01⋅x₀  + 0.01⋅x₁  + 0.01⋅x₂  + 0.01⋅x₃  + 1.0⎠            \n",
       "\n",
       "                                        ⎤\n",
       "                                        ⎥\n",
       "            cos(x₃)                    ⎞⎥\n",
       "───────────────────────────────────────⎟⎥\n",
       "          2          2          2      ⎟⎥\n",
       " + 0.01⋅x₁  + 0.01⋅x₂  + 0.01⋅x₃  + 1.0⎟⎥\n",
       "                                       ⎠⎦"
      ]
     },
     "metadata": {},
     "output_type": "display_data"
    }
   ],
   "source": [
    "# Criando o vetor variável v\n",
    "v = sp.symbols('v:'+ str(n))\n",
    "vec_V = sp.Matrix(v)\n",
    "\n",
    "# Obtendo a multiplicação da jacobiana pelo vetor v\n",
    "JFxV = JFx * vec_V\n",
    "print (\"JFxV (JFx multiplicada pelo vetor v de n variáveis):\")\n",
    "display (JFxV)"
   ]
  },
  {
   "cell_type": "code",
   "execution_count": 9,
   "metadata": {},
   "outputs": [],
   "source": [
    "# Modelando a função objetivo e as restrições do problema 3 para achar a direção v:\n",
    "\n",
    "# Queremos minimizar alpha + (norma_de_v**2)/2\n",
    "# O vetor com as variáveis terá x[0:n-1] = v e x[n] = x[-1] = alpha\n",
    "\n",
    "# A função objetivo:\n",
    "def obj_func (x: list):\n",
    "    sqnormV = 0.0\n",
    "    for i in range (0, len(x)-1):\n",
    "        sqnormV += x[i]**2\n",
    "    return x[len(x)-1] + (sqnormV/2)\n",
    "\n",
    "# A restrição é, JFxV_in_xn[i] <= alpha para todo i\n",
    "# O scipy exige que restrições por inequação sejam um termo não negativo\n",
    "# Logo, retornamos: alpha - JFxV_in_xn[i] >= 0 para todo i de 0 a m\n",
    "def constr_func (x: list):\n",
    "    \n",
    "    # Obtemos uma cópia de v copiando x e retirando o alpha do final\n",
    "    v = []\n",
    "    for i in range (0, len(x)-1):\n",
    "        v.append(x[i])\n",
    "    \n",
    "    # Obtendo JFxV_in_xk:\n",
    "    JFxV_in_xn = JFxV_in_xn_func(v)\n",
    "    \n",
    "    # Fazendo a lista de restrições:\n",
    "    for i in range (0, len(JFxV_in_xn)):\n",
    "        JFxV_in_xn[i] = x[-1] - JFxV_in_xn[i]\n",
    "        \n",
    "    return JFxV_in_xn"
   ]
  },
  {
   "cell_type": "markdown",
   "metadata": {},
   "source": [
    "Realizando o Método da Descida para Funções Multiobjetivo em si:"
   ]
  },
  {
   "cell_type": "code",
   "execution_count": 10,
   "metadata": {},
   "outputs": [],
   "source": [
    "# Se quiser ver cada passo, iguale a variável abaixo a True, se não, iguale a False\n",
    "print_Walk = False\n",
    "# Se quiser ver os pontos mínimos encontrados, iguale a variável abaixo a True, se não, iguale a False\n",
    "print_minimum = True"
   ]
  },
  {
   "cell_type": "code",
   "execution_count": 11,
   "metadata": {},
   "outputs": [
    {
     "name": "stdout",
     "output_type": "stream",
     "text": [
      "Ponto mínimo aproximado Xn:\n"
     ]
    },
    {
     "data": {
      "text/latex": [
       "$\\displaystyle \\left[ 1.4633879088014243, \\  1.4633878530606557, \\  1.4633069209233638, \\  1.4633793590594937\\right]$"
      ],
      "text/plain": [
       "[1.4633879088014243, 1.4633878530606557, 1.4633069209233638, 1.463379359059493\n",
       "7]"
      ]
     },
     "metadata": {},
     "output_type": "display_data"
    },
    {
     "name": "stdout",
     "output_type": "stream",
     "text": [
      "Ponto mínimo aproximado Xn:\n"
     ]
    },
    {
     "data": {
      "text/latex": [
       "$\\displaystyle \\left[ 1.424398959211673, \\  1.1600868684693115, \\  1.7004105099446671, \\  1.6338762099829676\\right]$"
      ],
      "text/plain": [
       "[1.424398959211673, 1.1600868684693115, 1.7004105099446671, 1.6338762099829676\n",
       "]"
      ]
     },
     "metadata": {},
     "output_type": "display_data"
    },
    {
     "name": "stdout",
     "output_type": "stream",
     "text": [
      "Ponto mínimo aproximado Xn:\n"
     ]
    },
    {
     "data": {
      "text/latex": [
       "$\\displaystyle \\left[ 1.4634075384787077, \\  1.4634081224738935, \\  1.4634046884723872, \\  1.4631535041126797\\right]$"
      ],
      "text/plain": [
       "[1.4634075384787077, 1.4634081224738935, 1.4634046884723872, 1.463153504112679\n",
       "7]"
      ]
     },
     "metadata": {},
     "output_type": "display_data"
    },
    {
     "name": "stdout",
     "output_type": "stream",
     "text": [
      "Ponto mínimo aproximado Xn:\n"
     ]
    },
    {
     "data": {
      "text/latex": [
       "$\\displaystyle \\left[ 1.4634572893984514, \\  1.4634546941120508, \\  1.4627654210853285, \\  1.4634330598989231\\right]$"
      ],
      "text/plain": [
       "[1.4634572893984514, 1.4634546941120508, 1.4627654210853285, 1.463433059898923\n",
       "1]"
      ]
     },
     "metadata": {},
     "output_type": "display_data"
    },
    {
     "name": "stdout",
     "output_type": "stream",
     "text": [
      "Ponto mínimo aproximado Xn:\n"
     ]
    },
    {
     "data": {
      "text/latex": [
       "$\\displaystyle \\left[ 1.4350148207672193, \\  1.2441453709176993, \\  1.6355568829893325, \\  1.587233026981777\\right]$"
      ],
      "text/plain": [
       "[1.4350148207672193, 1.2441453709176993, 1.6355568829893325, 1.587233026981777\n",
       "]"
      ]
     },
     "metadata": {},
     "output_type": "display_data"
    },
    {
     "name": "stdout",
     "output_type": "stream",
     "text": [
      "Ponto mínimo aproximado Xn:\n"
     ]
    },
    {
     "data": {
      "text/latex": [
       "$\\displaystyle \\left[ 1.4227673999181552, \\  1.1446782820509753, \\  1.7116152519593297, \\  1.6418031876899466\\right]$"
      ],
      "text/plain": [
       "[1.4227673999181552, 1.1446782820509753, 1.7116152519593297, 1.641803187689946\n",
       "6]"
      ]
     },
     "metadata": {},
     "output_type": "display_data"
    },
    {
     "name": "stdout",
     "output_type": "stream",
     "text": [
      "Ponto mínimo aproximado Xn:\n"
     ]
    },
    {
     "data": {
      "text/latex": [
       "$\\displaystyle \\left[ 1.4262572098144837, \\  1.1694966807963114, \\  1.692177185077191, \\  1.6280339028177475\\right]$"
      ],
      "text/plain": [
       "[1.4262572098144837, 1.1694966807963114, 1.692177185077191, 1.6280339028177475\n",
       "]"
      ]
     },
     "metadata": {},
     "output_type": "display_data"
    },
    {
     "name": "stdout",
     "output_type": "stream",
     "text": [
      "Ponto mínimo aproximado Xn:\n"
     ]
    },
    {
     "data": {
      "text/latex": [
       "$\\displaystyle \\left[ 1.458706276681903, \\  1.4260619683417932, \\  1.4923956440395354, \\  1.483864350113247\\right]$"
      ],
      "text/plain": [
       "[1.458706276681903, 1.4260619683417932, 1.4923956440395354, 1.483864350113247]"
      ]
     },
     "metadata": {},
     "output_type": "display_data"
    },
    {
     "name": "stdout",
     "output_type": "stream",
     "text": [
      "Ponto mínimo aproximado Xn:\n"
     ]
    },
    {
     "data": {
      "text/latex": [
       "$\\displaystyle \\left[ 1.4633951600520752, \\  1.4633963440084745, \\  1.4632720589756762, \\  1.4633716650162154\\right]$"
      ],
      "text/plain": [
       "[1.4633951600520752, 1.4633963440084745, 1.4632720589756762, 1.463371665016215\n",
       "4]"
      ]
     },
     "metadata": {},
     "output_type": "display_data"
    },
    {
     "name": "stdout",
     "output_type": "stream",
     "text": [
      "Ponto mínimo aproximado Xn:\n"
     ]
    },
    {
     "data": {
      "text/latex": [
       "$\\displaystyle \\left[ 1.4503888238217835, \\  1.356895431053024, \\  1.5464880900042655, \\  1.5234615859323049\\right]$"
      ],
      "text/plain": [
       "[1.4503888238217835, 1.356895431053024, 1.5464880900042655, 1.5234615859323049\n",
       "]"
      ]
     },
     "metadata": {},
     "output_type": "display_data"
    },
    {
     "name": "stdout",
     "output_type": "stream",
     "text": [
      "Ponto mínimo aproximado Xn:\n"
     ]
    },
    {
     "data": {
      "text/latex": [
       "$\\displaystyle \\left[ 1.4634845777499264, \\  1.4634819378963453, \\  1.4624973431292299, \\  1.463484521581081\\right]$"
      ],
      "text/plain": [
       "[1.4634845777499264, 1.4634819378963453, 1.4624973431292299, 1.463484521581081\n",
       "]"
      ]
     },
     "metadata": {},
     "output_type": "display_data"
    },
    {
     "name": "stdout",
     "output_type": "stream",
     "text": [
      "Ponto mínimo aproximado Xn:\n"
     ]
    },
    {
     "data": {
      "text/latex": [
       "$\\displaystyle \\left[ 1.3856548076921678, \\  0.8801681321343351, \\  1.9086016483418986, \\  1.7824250880653973\\right]$"
      ],
      "text/plain": [
       "[1.3856548076921678, 0.8801681321343351, 1.9086016483418986, 1.782425088065397\n",
       "3]"
      ]
     },
     "metadata": {},
     "output_type": "display_data"
    },
    {
     "name": "stdout",
     "output_type": "stream",
     "text": [
      "Ponto mínimo aproximado Xn:\n"
     ]
    },
    {
     "data": {
      "text/latex": [
       "$\\displaystyle \\left[ 1.46337662897488, \\  1.4633826432045727, \\  1.4633469626237634, \\  1.4633826888062396\\right]$"
      ],
      "text/plain": [
       "[1.46337662897488, 1.4633826432045727, 1.4633469626237634, 1.4633826888062396]"
      ]
     },
     "metadata": {},
     "output_type": "display_data"
    },
    {
     "name": "stdout",
     "output_type": "stream",
     "text": [
      "Ponto mínimo aproximado Xn:\n"
     ]
    },
    {
     "data": {
      "text/latex": [
       "$\\displaystyle \\left[ 1.4633865551226661, \\  1.4633865697253299, \\  1.4633787400432294, \\  1.4633195103234762\\right]$"
      ],
      "text/plain": [
       "[1.4633865551226661, 1.4633865697253299, 1.4633787400432294, 1.463319510323476\n",
       "2]"
      ]
     },
     "metadata": {},
     "output_type": "display_data"
    },
    {
     "name": "stdout",
     "output_type": "stream",
     "text": [
      "Ponto mínimo aproximado Xn:\n"
     ]
    },
    {
     "data": {
      "text/latex": [
       "$\\displaystyle \\left[ 1.3647317466307654, \\  0.7503419133112302, \\  2.001631950444706, \\  1.8476929422955903\\right]$"
      ],
      "text/plain": [
       "[1.3647317466307654, 0.7503419133112302, 2.001631950444706, 1.8476929422955903\n",
       "]"
      ]
     },
     "metadata": {},
     "output_type": "display_data"
    },
    {
     "name": "stdout",
     "output_type": "stream",
     "text": [
      "Ponto mínimo aproximado Xn:\n"
     ]
    },
    {
     "data": {
      "text/latex": [
       "$\\displaystyle \\left[ 1.3958015929796939, \\  0.96097281860955, \\  1.850312128253639, \\  1.7410895075632093\\right]$"
      ],
      "text/plain": [
       "[1.3958015929796939, 0.96097281860955, 1.850312128253639, 1.7410895075632093]"
      ]
     },
     "metadata": {},
     "output_type": "display_data"
    },
    {
     "name": "stdout",
     "output_type": "stream",
     "text": [
      "Ponto mínimo aproximado Xn:\n"
     ]
    },
    {
     "data": {
      "text/latex": [
       "$\\displaystyle \\left[ 1.4633819414114895, \\  1.4633819401988877, \\  1.4633818621242505, \\  1.463346202659531\\right]$"
      ],
      "text/plain": [
       "[1.4633819414114895, 1.4633819401988877, 1.4633818621242505, 1.463346202659531\n",
       "]"
      ]
     },
     "metadata": {},
     "output_type": "display_data"
    },
    {
     "name": "stdout",
     "output_type": "stream",
     "text": [
      "Ponto mínimo aproximado Xn:\n"
     ]
    },
    {
     "data": {
      "text/latex": [
       "$\\displaystyle \\left[ 1.4634508994230617, \\  1.4634451724912099, \\  1.4634559644992422, \\  1.4627584923207655\\right]$"
      ],
      "text/plain": [
       "[1.4634508994230617, 1.4634451724912099, 1.4634559644992422, 1.462758492320765\n",
       "5]"
      ]
     },
     "metadata": {},
     "output_type": "display_data"
    },
    {
     "name": "stdout",
     "output_type": "stream",
     "text": [
      "Ponto mínimo aproximado Xn:\n"
     ]
    },
    {
     "data": {
      "text/latex": [
       "$\\displaystyle \\left[ 1.4633811732205046, \\  1.463381168811394, \\  1.4633809895954388, \\  1.463352517901954\\right]$"
      ],
      "text/plain": [
       "[1.4633811732205046, 1.463381168811394, 1.4633809895954388, 1.463352517901954]"
      ]
     },
     "metadata": {},
     "output_type": "display_data"
    },
    {
     "name": "stdout",
     "output_type": "stream",
     "text": [
      "Ponto mínimo aproximado Xn:\n"
     ]
    },
    {
     "data": {
      "text/latex": [
       "$\\displaystyle \\left[ 1.4149661678053589, \\  1.087918094183408, \\  1.7548507067541625, \\  1.6728973593220224\\right]$"
      ],
      "text/plain": [
       "[1.4149661678053589, 1.087918094183408, 1.7548507067541625, 1.6728973593220224\n",
       "]"
      ]
     },
     "metadata": {},
     "output_type": "display_data"
    },
    {
     "name": "stdout",
     "output_type": "stream",
     "text": [
      "Ponto mínimo aproximado Xn:\n"
     ]
    },
    {
     "data": {
      "text/latex": [
       "$\\displaystyle \\left[ 1.4416391577947065, \\  1.288863364901292, \\  1.6000893078160867, \\  1.5614480012198415\\right]$"
      ],
      "text/plain": [
       "[1.4416391577947065, 1.288863364901292, 1.6000893078160867, 1.5614480012198415\n",
       "]"
      ]
     },
     "metadata": {},
     "output_type": "display_data"
    },
    {
     "name": "stdout",
     "output_type": "stream",
     "text": [
      "Ponto mínimo aproximado Xn:\n"
     ]
    },
    {
     "data": {
      "text/latex": [
       "$\\displaystyle \\left[ 1.456616930363204, \\  1.4082299196810666, \\  1.5069949260012492, \\  1.494700851384743\\right]$"
      ],
      "text/plain": [
       "[1.456616930363204, 1.4082299196810666, 1.5069949260012492, 1.494700851384743]"
      ]
     },
     "metadata": {},
     "output_type": "display_data"
    },
    {
     "name": "stdout",
     "output_type": "stream",
     "text": [
      "Ponto mínimo aproximado Xn:\n"
     ]
    },
    {
     "data": {
      "text/latex": [
       "$\\displaystyle \\left[ 1.444054059311454, \\  1.30865506544706, \\  1.5852614848371085, \\  1.5510202756403584\\right]$"
      ],
      "text/plain": [
       "[1.444054059311454, 1.30865506544706, 1.5852614848371085, 1.5510202756403584]"
      ]
     },
     "metadata": {},
     "output_type": "display_data"
    },
    {
     "name": "stdout",
     "output_type": "stream",
     "text": [
      "Ponto mínimo aproximado Xn:\n"
     ]
    },
    {
     "data": {
      "text/latex": [
       "$\\displaystyle \\left[ 1.4633847801824889, \\  1.4633846851179915, \\  1.4633847598338936, \\  1.4633231983126527\\right]$"
      ],
      "text/plain": [
       "[1.4633847801824889, 1.4633846851179915, 1.4633847598338936, 1.463323198312652\n",
       "7]"
      ]
     },
     "metadata": {},
     "output_type": "display_data"
    },
    {
     "name": "stdout",
     "output_type": "stream",
     "text": [
      "Ponto mínimo aproximado Xn:\n"
     ]
    },
    {
     "data": {
      "text/latex": [
       "$\\displaystyle \\left[ 1.4487120494139032, \\  1.3495859868346822, \\  1.5532004281273055, \\  1.5279383210391824\\right]$"
      ],
      "text/plain": [
       "[1.4487120494139032, 1.3495859868346822, 1.5532004281273055, 1.527938321039182\n",
       "4]"
      ]
     },
     "metadata": {},
     "output_type": "display_data"
    },
    {
     "name": "stdout",
     "output_type": "stream",
     "text": [
      "Ponto mínimo aproximado Xn:\n"
     ]
    },
    {
     "data": {
      "text/latex": [
       "$\\displaystyle \\left[ 1.439213554516887, \\  1.2749347665409176, \\  1.6116039795917363, \\  1.5699884681626914\\right]$"
      ],
      "text/plain": [
       "[1.439213554516887, 1.2749347665409176, 1.6116039795917363, 1.5699884681626914\n",
       "]"
      ]
     },
     "metadata": {},
     "output_type": "display_data"
    },
    {
     "name": "stdout",
     "output_type": "stream",
     "text": [
      "Ponto mínimo aproximado Xn:\n"
     ]
    },
    {
     "data": {
      "text/latex": [
       "$\\displaystyle \\left[ 1.4514370105479344, \\  1.3649854282727383, \\  1.54025548659029, \\  1.5188267649473588\\right]$"
      ],
      "text/plain": [
       "[1.4514370105479344, 1.3649854282727383, 1.54025548659029, 1.5188267649473588]"
      ]
     },
     "metadata": {},
     "output_type": "display_data"
    },
    {
     "name": "stdout",
     "output_type": "stream",
     "text": [
      "Ponto mínimo aproximado Xn:\n"
     ]
    },
    {
     "data": {
      "text/latex": [
       "$\\displaystyle \\left[ 1.4634003052032785, \\  1.4634021342472863, \\  1.4634021900830807, \\  1.4631984211281066\\right]$"
      ],
      "text/plain": [
       "[1.4634003052032785, 1.4634021342472863, 1.4634021900830807, 1.463198421128106\n",
       "6]"
      ]
     },
     "metadata": {},
     "output_type": "display_data"
    },
    {
     "name": "stdout",
     "output_type": "stream",
     "text": [
      "Ponto mínimo aproximado Xn:\n"
     ]
    },
    {
     "data": {
      "text/latex": [
       "$\\displaystyle \\left[ 1.4264486256883415, \\  1.1799221333160728, \\  1.685196565131232, \\  1.6229433860004816\\right]$"
      ],
      "text/plain": [
       "[1.4264486256883415, 1.1799221333160728, 1.685196565131232, 1.6229433860004816\n",
       "]"
      ]
     },
     "metadata": {},
     "output_type": "display_data"
    },
    {
     "name": "stdout",
     "output_type": "stream",
     "text": [
      "Ponto mínimo aproximado Xn:\n"
     ]
    },
    {
     "data": {
      "text/latex": [
       "$\\displaystyle \\left[ 1.4633818116287283, \\  1.4633792523336946, \\  1.4633514124143479, \\  1.4633818323621446\\right]$"
      ],
      "text/plain": [
       "[1.4633818116287283, 1.4633792523336946, 1.4633514124143479, 1.463381832362144\n",
       "6]"
      ]
     },
     "metadata": {},
     "output_type": "display_data"
    },
    {
     "name": "stdout",
     "output_type": "stream",
     "text": [
      "Ponto mínimo aproximado Xn:\n"
     ]
    },
    {
     "data": {
      "text/latex": [
       "$\\displaystyle \\left[ 1.4373647389485686, \\  1.2541522363637534, \\  1.6269616315319895, \\  1.5812722582683654\\right]$"
      ],
      "text/plain": [
       "[1.4373647389485686, 1.2541522363637534, 1.6269616315319895, 1.581272258268365\n",
       "4]"
      ]
     },
     "metadata": {},
     "output_type": "display_data"
    },
    {
     "name": "stdout",
     "output_type": "stream",
     "text": [
      "Ponto mínimo aproximado Xn:\n"
     ]
    },
    {
     "data": {
      "text/latex": [
       "$\\displaystyle \\left[ 1.4460530502687674, \\  1.3218406669286702, \\  1.5744998524184577, \\  1.5427910104667806\\right]$"
      ],
      "text/plain": [
       "[1.4460530502687674, 1.3218406669286702, 1.5744998524184577, 1.542791010466780\n",
       "6]"
      ]
     },
     "metadata": {},
     "output_type": "display_data"
    },
    {
     "name": "stdout",
     "output_type": "stream",
     "text": [
      "Ponto mínimo aproximado Xn:\n"
     ]
    },
    {
     "data": {
      "text/latex": [
       "$\\displaystyle \\left[ 1.4388977140478705, \\  1.2719817086847143, \\  1.6139019316279692, \\  1.5716431087212073\\right]$"
      ],
      "text/plain": [
       "[1.4388977140478705, 1.2719817086847143, 1.6139019316279692, 1.571643108721207\n",
       "3]"
      ]
     },
     "metadata": {},
     "output_type": "display_data"
    },
    {
     "name": "stdout",
     "output_type": "stream",
     "text": [
      "Ponto mínimo aproximado Xn:\n"
     ]
    },
    {
     "data": {
      "text/latex": [
       "$\\displaystyle \\left[ 1.4021595151437267, \\  0.9939998635283304, \\  1.82502774730937, \\  1.7230199142459701\\right]$"
      ],
      "text/plain": [
       "[1.4021595151437267, 0.9939998635283304, 1.82502774730937, 1.7230199142459701]"
      ]
     },
     "metadata": {},
     "output_type": "display_data"
    },
    {
     "name": "stdout",
     "output_type": "stream",
     "text": [
      "Ponto mínimo aproximado Xn:\n"
     ]
    },
    {
     "data": {
      "text/latex": [
       "$\\displaystyle \\left[ 1.4633662681636785, \\  1.4634164694250569, \\  1.4631421418248247, \\  1.4634174770653108\\right]$"
      ],
      "text/plain": [
       "[1.4633662681636785, 1.4634164694250569, 1.4631421418248247, 1.463417477065310\n",
       "8]"
      ]
     },
     "metadata": {},
     "output_type": "display_data"
    },
    {
     "name": "stdout",
     "output_type": "stream",
     "text": [
      "Ponto mínimo aproximado Xn:\n"
     ]
    },
    {
     "data": {
      "text/latex": [
       "$\\displaystyle \\left[ 1.4628296424042073, \\  1.463479414013103, \\  1.4631457699768189, \\  1.463517614656378\\right]$"
      ],
      "text/plain": [
       "[1.4628296424042073, 1.463479414013103, 1.4631457699768189, 1.463517614656378]"
      ]
     },
     "metadata": {},
     "output_type": "display_data"
    },
    {
     "name": "stdout",
     "output_type": "stream",
     "text": [
      "Ponto mínimo aproximado Xn:\n"
     ]
    },
    {
     "data": {
      "text/latex": [
       "$\\displaystyle \\left[ 1.3470766384812378, \\  0.6229614742120302, \\  2.086624784289819, \\  1.906700273238226\\right]$"
      ],
      "text/plain": [
       "[1.3470766384812378, 0.6229614742120302, 2.086624784289819, 1.906700273238226]"
      ]
     },
     "metadata": {},
     "output_type": "display_data"
    },
    {
     "name": "stdout",
     "output_type": "stream",
     "text": [
      "Ponto mínimo aproximado Xn:\n"
     ]
    },
    {
     "data": {
      "text/latex": [
       "$\\displaystyle \\left[ 1.3877899436770584, \\  0.9041546779346326, \\  1.8920988918415678, \\  1.7707106194591593\\right]$"
      ],
      "text/plain": [
       "[1.3877899436770584, 0.9041546779346326, 1.8920988918415678, 1.770710619459159\n",
       "3]"
      ]
     },
     "metadata": {},
     "output_type": "display_data"
    },
    {
     "name": "stdout",
     "output_type": "stream",
     "text": [
      "Ponto mínimo aproximado Xn:\n"
     ]
    },
    {
     "data": {
      "text/latex": [
       "$\\displaystyle \\left[ 1.4633909679075758, \\  1.4633910772808252, \\  1.463391073753209, \\  1.4632812923750471\\right]$"
      ],
      "text/plain": [
       "[1.4633909679075758, 1.4633910772808252, 1.463391073753209, 1.4632812923750471\n",
       "]"
      ]
     },
     "metadata": {},
     "output_type": "display_data"
    },
    {
     "name": "stdout",
     "output_type": "stream",
     "text": [
      "Ponto mínimo aproximado Xn:\n"
     ]
    },
    {
     "data": {
      "text/latex": [
       "$\\displaystyle \\left[ 1.4633517159205318, \\  1.463646524731694, \\  1.4628162115337908, \\  1.4626915482633907\\right]$"
      ],
      "text/plain": [
       "[1.4633517159205318, 1.463646524731694, 1.4628162115337908, 1.4626915482633907\n",
       "]"
      ]
     },
     "metadata": {},
     "output_type": "display_data"
    },
    {
     "name": "stdout",
     "output_type": "stream",
     "text": [
      "Ponto mínimo aproximado Xn:\n"
     ]
    },
    {
     "data": {
      "text/latex": [
       "$\\displaystyle \\left[ 1.4246737338495201, \\  1.1623471120206212, \\  1.6981209690621573, \\  1.632139346093404\\right]$"
      ],
      "text/plain": [
       "[1.4246737338495201, 1.1623471120206212, 1.6981209690621573, 1.632139346093404\n",
       "]"
      ]
     },
     "metadata": {},
     "output_type": "display_data"
    },
    {
     "name": "stdout",
     "output_type": "stream",
     "text": [
      "Ponto mínimo aproximado Xn:\n"
     ]
    },
    {
     "data": {
      "text/latex": [
       "$\\displaystyle \\left[ 1.406454850033088, \\  1.0302412484778478, \\  1.798903719724757, \\  1.7044421327225756\\right]$"
      ],
      "text/plain": [
       "[1.406454850033088, 1.0302412484778478, 1.798903719724757, 1.7044421327225756]"
      ]
     },
     "metadata": {},
     "output_type": "display_data"
    },
    {
     "name": "stdout",
     "output_type": "stream",
     "text": [
      "Ponto mínimo aproximado Xn:\n"
     ]
    },
    {
     "data": {
      "text/latex": [
       "$\\displaystyle \\left[ 1.3552080610996855, \\  0.6843896070162877, \\  2.046884636702894, \\  1.879143774807403\\right]$"
      ],
      "text/plain": [
       "[1.3552080610996855, 0.6843896070162877, 2.046884636702894, 1.879143774807403]"
      ]
     },
     "metadata": {},
     "output_type": "display_data"
    },
    {
     "name": "stdout",
     "output_type": "stream",
     "text": [
      "Ponto mínimo aproximado Xn:\n"
     ]
    },
    {
     "data": {
      "text/latex": [
       "$\\displaystyle \\left[ 1.3688462660537255, \\  0.7726357724399658, \\  1.9860168662890285, \\  1.8367884719040664\\right]$"
      ],
      "text/plain": [
       "[1.3688462660537255, 0.7726357724399658, 1.9860168662890285, 1.836788471904066\n",
       "4]"
      ]
     },
     "metadata": {},
     "output_type": "display_data"
    },
    {
     "name": "stdout",
     "output_type": "stream",
     "text": [
      "Ponto mínimo aproximado Xn:\n"
     ]
    },
    {
     "data": {
      "text/latex": [
       "$\\displaystyle \\left[ 1.4423639126449146, \\  1.3007328187311524, \\  1.5914804224804984, \\  1.5554984645525842\\right]$"
      ],
      "text/plain": [
       "[1.4423639126449146, 1.3007328187311524, 1.5914804224804984, 1.555498464552584\n",
       "2]"
      ]
     },
     "metadata": {},
     "output_type": "display_data"
    },
    {
     "name": "stdout",
     "output_type": "stream",
     "text": [
      "Ponto mínimo aproximado Xn:\n"
     ]
    },
    {
     "data": {
      "text/latex": [
       "$\\displaystyle \\left[ 1.4190020445968057, \\  1.1245349224836172, \\  1.727622927347018, \\  1.653416069189586\\right]$"
      ],
      "text/plain": [
       "[1.4190020445968057, 1.1245349224836172, 1.727622927347018, 1.653416069189586]"
      ]
     },
     "metadata": {},
     "output_type": "display_data"
    },
    {
     "name": "stdout",
     "output_type": "stream",
     "text": [
      "Ponto mínimo aproximado Xn:\n"
     ]
    },
    {
     "data": {
      "text/latex": [
       "$\\displaystyle \\left[ 1.4012212573341185, \\  0.993205661058271, \\  1.8265466745197314, \\  1.7241585461577627\\right]$"
      ],
      "text/plain": [
       "[1.4012212573341185, 0.993205661058271, 1.8265466745197314, 1.7241585461577627\n",
       "]"
      ]
     },
     "metadata": {},
     "output_type": "display_data"
    },
    {
     "name": "stdout",
     "output_type": "stream",
     "text": [
      "Ponto mínimo aproximado Xn:\n"
     ]
    },
    {
     "data": {
      "text/latex": [
       "$\\displaystyle \\left[ 1.4343990034842267, \\  1.2313960319098927, \\  1.6444570317701863, \\  1.593877577603163\\right]$"
      ],
      "text/plain": [
       "[1.4343990034842267, 1.2313960319098927, 1.6444570317701863, 1.593877577603163\n",
       "]"
      ]
     },
     "metadata": {},
     "output_type": "display_data"
    },
    {
     "name": "stdout",
     "output_type": "stream",
     "text": [
      "Ponto mínimo aproximado Xn:\n"
     ]
    },
    {
     "data": {
      "text/latex": [
       "$\\displaystyle \\left[ 1.4376610482679262, \\  1.2611477417883141, \\  1.6222390254206718, \\  1.5776283226841077\\right]$"
      ],
      "text/plain": [
       "[1.4376610482679262, 1.2611477417883141, 1.6222390254206718, 1.577628322684107\n",
       "7]"
      ]
     },
     "metadata": {},
     "output_type": "display_data"
    },
    {
     "name": "stdout",
     "output_type": "stream",
     "text": [
      "Ponto mínimo aproximado Xn:\n"
     ]
    },
    {
     "data": {
      "text/latex": [
       "$\\displaystyle \\left[ 1.4438561592111296, \\  1.313697063419884, \\  1.5813477299018537, \\  1.5482047023210166\\right]$"
      ],
      "text/plain": [
       "[1.4438561592111296, 1.313697063419884, 1.5813477299018537, 1.5482047023210166\n",
       "]"
      ]
     },
     "metadata": {},
     "output_type": "display_data"
    },
    {
     "name": "stdout",
     "output_type": "stream",
     "text": [
      "Ponto mínimo aproximado Xn:\n"
     ]
    },
    {
     "data": {
      "text/latex": [
       "$\\displaystyle \\left[ 1.4110576326606608, \\  1.0574910187695845, \\  1.7773258801370717, \\  1.689085793637376\\right]$"
      ],
      "text/plain": [
       "[1.4110576326606608, 1.0574910187695845, 1.7773258801370717, 1.689085793637376\n",
       "]"
      ]
     },
     "metadata": {},
     "output_type": "display_data"
    },
    {
     "name": "stdout",
     "output_type": "stream",
     "text": [
      "Ponto mínimo aproximado Xn:\n"
     ]
    },
    {
     "data": {
      "text/latex": [
       "$\\displaystyle \\left[ 1.4569862038887023, \\  1.4119824117448385, \\  1.5029801930949287, \\  1.4922926802063268\\right]$"
      ],
      "text/plain": [
       "[1.4569862038887023, 1.4119824117448385, 1.5029801930949287, 1.492292680206326\n",
       "8]"
      ]
     },
     "metadata": {},
     "output_type": "display_data"
    },
    {
     "name": "stdout",
     "output_type": "stream",
     "text": [
      "Ponto mínimo aproximado Xn:\n"
     ]
    },
    {
     "data": {
      "text/latex": [
       "$\\displaystyle \\left[ 1.46338519211973, \\  1.4633851901038226, \\  1.4633227417319952, \\  1.4633830176997482\\right]$"
      ],
      "text/plain": [
       "[1.46338519211973, 1.4633851901038226, 1.4633227417319952, 1.4633830176997482]"
      ]
     },
     "metadata": {},
     "output_type": "display_data"
    },
    {
     "name": "stdout",
     "output_type": "stream",
     "text": [
      "Ponto mínimo aproximado Xn:\n"
     ]
    },
    {
     "data": {
      "text/latex": [
       "$\\displaystyle \\left[ 1.4422281820913112, \\  1.2944878010290692, \\  1.5962983535457254, \\  1.5589760607326573\\right]$"
      ],
      "text/plain": [
       "[1.4422281820913112, 1.2944878010290692, 1.5962983535457254, 1.558976060732657\n",
       "3]"
      ]
     },
     "metadata": {},
     "output_type": "display_data"
    },
    {
     "name": "stdout",
     "output_type": "stream",
     "text": [
      "Ponto mínimo aproximado Xn:\n"
     ]
    },
    {
     "data": {
      "text/latex": [
       "$\\displaystyle \\left[ 1.46338602210548, \\  1.4633860232357798, \\  1.4633859372354217, \\  1.463313160726805\\right]$"
      ],
      "text/plain": [
       "[1.46338602210548, 1.4633860232357798, 1.4633859372354217, 1.463313160726805]"
      ]
     },
     "metadata": {},
     "output_type": "display_data"
    },
    {
     "name": "stdout",
     "output_type": "stream",
     "text": [
      "Ponto mínimo aproximado Xn:\n"
     ]
    },
    {
     "data": {
      "text/latex": [
       "$\\displaystyle \\left[ 1.4027873491707212, \\  1.0030981497559874, \\  1.8182904683118295, \\  1.718217554775048\\right]$"
      ],
      "text/plain": [
       "[1.4027873491707212, 1.0030981497559874, 1.8182904683118295, 1.718217554775048\n",
       "]"
      ]
     },
     "metadata": {},
     "output_type": "display_data"
    },
    {
     "name": "stdout",
     "output_type": "stream",
     "text": [
      "Ponto mínimo aproximado Xn:\n"
     ]
    },
    {
     "data": {
      "text/latex": [
       "$\\displaystyle \\left[ 1.3087841495028383, \\  0.3710543968808923, \\  2.24417051772903, \\  2.0132079542658334\\right]$"
      ],
      "text/plain": [
       "[1.3087841495028383, 0.3710543968808923, 2.24417051772903, 2.0132079542658334]"
      ]
     },
     "metadata": {},
     "output_type": "display_data"
    },
    {
     "name": "stdout",
     "output_type": "stream",
     "text": [
      "Ponto mínimo aproximado Xn:\n"
     ]
    },
    {
     "data": {
      "text/latex": [
       "$\\displaystyle \\left[ 1.4388281241690046, \\  1.2676254129257463, \\  1.6168482749908777, \\  1.5733826999596854\\right]$"
      ],
      "text/plain": [
       "[1.4388281241690046, 1.2676254129257463, 1.6168482749908777, 1.573382699959685\n",
       "4]"
      ]
     },
     "metadata": {},
     "output_type": "display_data"
    },
    {
     "name": "stdout",
     "output_type": "stream",
     "text": [
      "Ponto mínimo aproximado Xn:\n"
     ]
    },
    {
     "data": {
      "text/latex": [
       "$\\displaystyle \\left[ 1.4634012697888958, \\  1.4634039518941542, \\  1.4631857050838106, \\  1.4634038683943809\\right]$"
      ],
      "text/plain": [
       "[1.4634012697888958, 1.4634039518941542, 1.4631857050838106, 1.463403868394380\n",
       "9]"
      ]
     },
     "metadata": {},
     "output_type": "display_data"
    },
    {
     "name": "stdout",
     "output_type": "stream",
     "text": [
      "Ponto mínimo aproximado Xn:\n"
     ]
    },
    {
     "data": {
      "text/latex": [
       "$\\displaystyle \\left[ 1.463389013496687, \\  1.4633881801850086, \\  1.4633847862557139, \\  1.463302616694227\\right]$"
      ],
      "text/plain": [
       "[1.463389013496687, 1.4633881801850086, 1.4633847862557139, 1.463302616694227]"
      ]
     },
     "metadata": {},
     "output_type": "display_data"
    },
    {
     "name": "stdout",
     "output_type": "stream",
     "text": [
      "Ponto mínimo aproximado Xn:\n"
     ]
    },
    {
     "data": {
      "text/latex": [
       "$\\displaystyle \\left[ 1.3909447111825683, \\  0.9154486805094308, \\  1.8830684226309455, \\  1.7642961987900703\\right]$"
      ],
      "text/plain": [
       "[1.3909447111825683, 0.9154486805094308, 1.8830684226309455, 1.764296198790070\n",
       "3]"
      ]
     },
     "metadata": {},
     "output_type": "display_data"
    },
    {
     "name": "stdout",
     "output_type": "stream",
     "text": [
      "Ponto mínimo aproximado Xn:\n"
     ]
    },
    {
     "data": {
      "text/latex": [
       "$\\displaystyle \\left[ 1.376216697266693, \\  0.8253169828358856, \\  1.9488624383840703, \\  1.8107445949845067\\right]$"
      ],
      "text/plain": [
       "[1.376216697266693, 0.8253169828358856, 1.9488624383840703, 1.8107445949845067\n",
       "]"
      ]
     },
     "metadata": {},
     "output_type": "display_data"
    },
    {
     "name": "stdout",
     "output_type": "stream",
     "text": [
      "Ponto mínimo aproximado Xn:\n"
     ]
    },
    {
     "data": {
      "text/latex": [
       "$\\displaystyle \\left[ 1.4134373889545748, \\  1.079142561579801, \\  1.7615040310818095, \\  1.6776525628669405\\right]$"
      ],
      "text/plain": [
       "[1.4134373889545748, 1.079142561579801, 1.7615040310818095, 1.6776525628669405\n",
       "]"
      ]
     },
     "metadata": {},
     "output_type": "display_data"
    },
    {
     "name": "stdout",
     "output_type": "stream",
     "text": [
      "Ponto mínimo aproximado Xn:\n"
     ]
    },
    {
     "data": {
      "text/latex": [
       "$\\displaystyle \\left[ 1.4633801195858216, \\  1.4633802789485164, \\  1.4633802687913933, \\  1.4633597381568169\\right]$"
      ],
      "text/plain": [
       "[1.4633801195858216, 1.4633802789485164, 1.4633802687913933, 1.463359738156816\n",
       "9]"
      ]
     },
     "metadata": {},
     "output_type": "display_data"
    },
    {
     "name": "stdout",
     "output_type": "stream",
     "text": [
      "Ponto mínimo aproximado Xn:\n"
     ]
    },
    {
     "data": {
      "text/latex": [
       "$\\displaystyle \\left[ 1.4633056906727246, \\  1.4633984410782288, \\  1.4633984527128732, \\  1.4633280548661831\\right]$"
      ],
      "text/plain": [
       "[1.4633056906727246, 1.4633984410782288, 1.4633984527128732, 1.463328054866183\n",
       "1]"
      ]
     },
     "metadata": {},
     "output_type": "display_data"
    },
    {
     "name": "stdout",
     "output_type": "stream",
     "text": [
      "Ponto mínimo aproximado Xn:\n"
     ]
    },
    {
     "data": {
      "text/latex": [
       "$\\displaystyle \\left[ 1.4453888906459833, \\  1.3175270776328607, \\  1.5776367655183856, \\  1.545727268296517\\right]$"
      ],
      "text/plain": [
       "[1.4453888906459833, 1.3175270776328607, 1.5776367655183856, 1.545727268296517\n",
       "]"
      ]
     },
     "metadata": {},
     "output_type": "display_data"
    },
    {
     "name": "stdout",
     "output_type": "stream",
     "text": [
      "Ponto mínimo aproximado Xn:\n"
     ]
    },
    {
     "data": {
      "text/latex": [
       "$\\displaystyle \\left[ 1.4613705146794242, \\  1.4518419905824846, \\  1.4726041831935013, \\  1.470025865391616\\right]$"
      ],
      "text/plain": [
       "[1.4613705146794242, 1.4518419905824846, 1.4726041831935013, 1.470025865391616\n",
       "]"
      ]
     },
     "metadata": {},
     "output_type": "display_data"
    },
    {
     "name": "stdout",
     "output_type": "stream",
     "text": [
      "Ponto mínimo aproximado Xn:\n"
     ]
    },
    {
     "data": {
      "text/latex": [
       "$\\displaystyle \\left[ 1.444144546167362, \\  1.3071738918386706, \\  1.5857634343188183, \\  1.551601700334343\\right]$"
      ],
      "text/plain": [
       "[1.444144546167362, 1.3071738918386706, 1.5857634343188183, 1.551601700334343]"
      ]
     },
     "metadata": {},
     "output_type": "display_data"
    },
    {
     "name": "stdout",
     "output_type": "stream",
     "text": [
      "Ponto mínimo aproximado Xn:\n"
     ]
    },
    {
     "data": {
      "text/latex": [
       "$\\displaystyle \\left[ 1.4395012862616456, \\  1.2709054227358076, \\  1.6143368505274989, \\  1.5716512856215852\\right]$"
      ],
      "text/plain": [
       "[1.4395012862616456, 1.2709054227358076, 1.6143368505274989, 1.571651285621585\n",
       "2]"
      ]
     },
     "metadata": {},
     "output_type": "display_data"
    },
    {
     "name": "stdout",
     "output_type": "stream",
     "text": [
      "Ponto mínimo aproximado Xn:\n"
     ]
    },
    {
     "data": {
      "text/latex": [
       "$\\displaystyle \\left[ 1.3885041586965436, \\  0.9058492755892211, \\  1.8908416885271353, \\  1.7698196231363015\\right]$"
      ],
      "text/plain": [
       "[1.3885041586965436, 0.9058492755892211, 1.8908416885271353, 1.769819623136301\n",
       "5]"
      ]
     },
     "metadata": {},
     "output_type": "display_data"
    },
    {
     "name": "stdout",
     "output_type": "stream",
     "text": [
      "Ponto mínimo aproximado Xn:\n"
     ]
    },
    {
     "data": {
      "text/latex": [
       "$\\displaystyle \\left[ 1.4634007799427384, \\  1.4634007809826637, \\  1.4632094588527675, \\  1.4633988145193138\\right]$"
      ],
      "text/plain": [
       "[1.4634007799427384, 1.4634007809826637, 1.4632094588527675, 1.463398814519313\n",
       "8]"
      ]
     },
     "metadata": {},
     "output_type": "display_data"
    },
    {
     "name": "stdout",
     "output_type": "stream",
     "text": [
      "Ponto mínimo aproximado Xn:\n"
     ]
    },
    {
     "data": {
      "text/latex": [
       "$\\displaystyle \\left[ 1.4464271198261662, \\  1.3313413041383428, \\  1.5675169506062194, \\  1.538244318573746\\right]$"
      ],
      "text/plain": [
       "[1.4464271198261662, 1.3313413041383428, 1.5675169506062194, 1.538244318573746\n",
       "]"
      ]
     },
     "metadata": {},
     "output_type": "display_data"
    },
    {
     "name": "stdout",
     "output_type": "stream",
     "text": [
      "Ponto mínimo aproximado Xn:\n"
     ]
    },
    {
     "data": {
      "text/latex": [
       "$\\displaystyle \\left[ 1.4296635748295332, \\  1.1985531649800327, \\  1.6708154052640838, \\  1.6126024441579982\\right]$"
      ],
      "text/plain": [
       "[1.4296635748295332, 1.1985531649800327, 1.6708154052640838, 1.612602444157998\n",
       "2]"
      ]
     },
     "metadata": {},
     "output_type": "display_data"
    },
    {
     "name": "stdout",
     "output_type": "stream",
     "text": [
      "Ponto mínimo aproximado Xn:\n"
     ]
    },
    {
     "data": {
      "text/latex": [
       "$\\displaystyle \\left[ 1.4062936566821318, \\  1.027513372442411, \\  1.7999089048211174, \\  1.7051836939485694\\right]$"
      ],
      "text/plain": [
       "[1.4062936566821318, 1.027513372442411, 1.7999089048211174, 1.7051836939485694\n",
       "]"
      ]
     },
     "metadata": {},
     "output_type": "display_data"
    },
    {
     "name": "stdout",
     "output_type": "stream",
     "text": [
      "Ponto mínimo aproximado Xn:\n"
     ]
    },
    {
     "data": {
      "text/latex": [
       "$\\displaystyle \\left[ 1.4246259276709345, \\  1.1645688896545856, \\  1.696985680203214, \\  1.631415966499856\\right]$"
      ],
      "text/plain": [
       "[1.4246259276709345, 1.1645688896545856, 1.696985680203214, 1.631415966499856]"
      ]
     },
     "metadata": {},
     "output_type": "display_data"
    },
    {
     "name": "stdout",
     "output_type": "stream",
     "text": [
      "Ponto mínimo aproximado Xn:\n"
     ]
    },
    {
     "data": {
      "text/latex": [
       "$\\displaystyle \\left[ 1.4633903765986647, \\  1.4633902408718558, \\  1.463316461788649, \\  1.4633506942960397\\right]$"
      ],
      "text/plain": [
       "[1.4633903765986647, 1.4633902408718558, 1.463316461788649, 1.4633506942960397\n",
       "]"
      ]
     },
     "metadata": {},
     "output_type": "display_data"
    },
    {
     "name": "stdout",
     "output_type": "stream",
     "text": [
      "Ponto mínimo aproximado Xn:\n"
     ]
    },
    {
     "data": {
      "text/latex": [
       "$\\displaystyle \\left[ 1.4634078235809367, \\  1.4634031387032498, \\  1.4634062821973353, \\  1.463159879656125\\right]$"
      ],
      "text/plain": [
       "[1.4634078235809367, 1.4634031387032498, 1.4634062821973353, 1.463159879656125\n",
       "]"
      ]
     },
     "metadata": {},
     "output_type": "display_data"
    },
    {
     "name": "stdout",
     "output_type": "stream",
     "text": [
      "Ponto mínimo aproximado Xn:\n"
     ]
    },
    {
     "data": {
      "text/latex": [
       "$\\displaystyle \\left[ 1.4438492838879537, \\  1.309749522523796, \\  1.5844176518860242, \\  1.550412772794468\\right]$"
      ],
      "text/plain": [
       "[1.4438492838879537, 1.309749522523796, 1.5844176518860242, 1.550412772794468]"
      ]
     },
     "metadata": {},
     "output_type": "display_data"
    },
    {
     "name": "stdout",
     "output_type": "stream",
     "text": [
      "Ponto mínimo aproximado Xn:\n"
     ]
    },
    {
     "data": {
      "text/latex": [
       "$\\displaystyle \\left[ 1.4633813879840407, \\  1.4633821344532811, \\  1.4633821290434619, \\  1.46334563100675\\right]$"
      ],
      "text/plain": [
       "[1.4633813879840407, 1.4633821344532811, 1.4633821290434619, 1.46334563100675]"
      ]
     },
     "metadata": {},
     "output_type": "display_data"
    },
    {
     "name": "stdout",
     "output_type": "stream",
     "text": [
      "Ponto mínimo aproximado Xn:\n"
     ]
    },
    {
     "data": {
      "text/latex": [
       "$\\displaystyle \\left[ 1.4628497815248411, \\  1.4592219514454026, \\  1.4666751772195767, \\  1.46574485504867\\right]$"
      ],
      "text/plain": [
       "[1.4628497815248411, 1.4592219514454026, 1.4666751772195767, 1.46574485504867]"
      ]
     },
     "metadata": {},
     "output_type": "display_data"
    },
    {
     "name": "stdout",
     "output_type": "stream",
     "text": [
      "Ponto mínimo aproximado Xn:\n"
     ]
    },
    {
     "data": {
      "text/latex": [
       "$\\displaystyle \\left[ 1.411163579875468, \\  1.0582185640492001, \\  1.7771373476418117, \\  1.6887363136939078\\right]$"
      ],
      "text/plain": [
       "[1.411163579875468, 1.0582185640492001, 1.7771373476418117, 1.6887363136939078\n",
       "]"
      ]
     },
     "metadata": {},
     "output_type": "display_data"
    },
    {
     "name": "stdout",
     "output_type": "stream",
     "text": [
      "Ponto mínimo aproximado Xn:\n"
     ]
    },
    {
     "data": {
      "text/latex": [
       "$\\displaystyle \\left[ 1.4099388905815533, \\  1.0550363136360839, \\  1.7802778016390681, \\  1.6911322800517765\\right]$"
      ],
      "text/plain": [
       "[1.4099388905815533, 1.0550363136360839, 1.7802778016390681, 1.691132280051776\n",
       "5]"
      ]
     },
     "metadata": {},
     "output_type": "display_data"
    },
    {
     "name": "stdout",
     "output_type": "stream",
     "text": [
      "Ponto mínimo aproximado Xn:\n"
     ]
    },
    {
     "data": {
      "text/latex": [
       "$\\displaystyle \\left[ 1.4633825502164721, \\  1.4633944825919518, \\  1.463391295425291, \\  1.463270801273501\\right]$"
      ],
      "text/plain": [
       "[1.4633825502164721, 1.4633944825919518, 1.463391295425291, 1.463270801273501]"
      ]
     },
     "metadata": {},
     "output_type": "display_data"
    },
    {
     "name": "stdout",
     "output_type": "stream",
     "text": [
      "Ponto mínimo aproximado Xn:\n"
     ]
    },
    {
     "data": {
      "text/latex": [
       "$\\displaystyle \\left[ 1.4315297313190687, \\  1.2109065100228606, \\  1.660228481287013, \\  1.605023525649907\\right]$"
      ],
      "text/plain": [
       "[1.4315297313190687, 1.2109065100228606, 1.660228481287013, 1.605023525649907]"
      ]
     },
     "metadata": {},
     "output_type": "display_data"
    },
    {
     "name": "stdout",
     "output_type": "stream",
     "text": [
      "Ponto mínimo aproximado Xn:\n"
     ]
    },
    {
     "data": {
      "text/latex": [
       "$\\displaystyle \\left[ 1.463387134948405, \\  1.4633872390484068, \\  1.4633026747746736, \\  1.4633873039580652\\right]$"
      ],
      "text/plain": [
       "[1.463387134948405, 1.4633872390484068, 1.4633026747746736, 1.4633873039580652\n",
       "]"
      ]
     },
     "metadata": {},
     "output_type": "display_data"
    },
    {
     "name": "stdout",
     "output_type": "stream",
     "text": [
      "Ponto mínimo aproximado Xn:\n"
     ]
    },
    {
     "data": {
      "text/latex": [
       "$\\displaystyle \\left[ 1.4086169913578643, \\  1.0422973662158304, \\  1.789228751791579, \\  1.6974891410300985\\right]$"
      ],
      "text/plain": [
       "[1.4086169913578643, 1.0422973662158304, 1.789228751791579, 1.6974891410300985\n",
       "]"
      ]
     },
     "metadata": {},
     "output_type": "display_data"
    },
    {
     "name": "stdout",
     "output_type": "stream",
     "text": [
      "Ponto mínimo aproximado Xn:\n"
     ]
    },
    {
     "data": {
      "text/latex": [
       "$\\displaystyle \\left[ 1.4633887120565738, \\  1.4633897706850285, \\  1.463288276599833, \\  1.4633906914628358\\right]$"
      ],
      "text/plain": [
       "[1.4633887120565738, 1.4633897706850285, 1.463288276599833, 1.4633906914628358\n",
       "]"
      ]
     },
     "metadata": {},
     "output_type": "display_data"
    },
    {
     "name": "stdout",
     "output_type": "stream",
     "text": [
      "Ponto mínimo aproximado Xn:\n"
     ]
    },
    {
     "data": {
      "text/latex": [
       "$\\displaystyle \\left[ 1.4633824282692736, \\  1.4633781180372747, \\  1.4633824227351058, \\  1.4633477341736156\\right]$"
      ],
      "text/plain": [
       "[1.4633824282692736, 1.4633781180372747, 1.4633824227351058, 1.463347734173615\n",
       "6]"
      ]
     },
     "metadata": {},
     "output_type": "display_data"
    },
    {
     "name": "stdout",
     "output_type": "stream",
     "text": [
      "Ponto mínimo aproximado Xn:\n"
     ]
    },
    {
     "data": {
      "text/latex": [
       "$\\displaystyle \\left[ 1.463387174859466, \\  1.4633763114362242, \\  1.4633144804044569, \\  1.4633871917106116\\right]$"
      ],
      "text/plain": [
       "[1.463387174859466, 1.4633763114362242, 1.4633144804044569, 1.4633871917106116\n",
       "]"
      ]
     },
     "metadata": {},
     "output_type": "display_data"
    },
    {
     "name": "stdout",
     "output_type": "stream",
     "text": [
      "Ponto mínimo aproximado Xn:\n"
     ]
    },
    {
     "data": {
      "text/latex": [
       "$\\displaystyle \\left[ 1.4632299083318105, \\  1.4623354572745288, \\  1.4642062485592395, \\  1.4639754319071085\\right]$"
      ],
      "text/plain": [
       "[1.4632299083318105, 1.4623354572745288, 1.4642062485592395, 1.463975431907108\n",
       "5]"
      ]
     },
     "metadata": {},
     "output_type": "display_data"
    },
    {
     "name": "stdout",
     "output_type": "stream",
     "text": [
      "Ponto mínimo aproximado Xn:\n"
     ]
    },
    {
     "data": {
      "text/latex": [
       "$\\displaystyle \\left[ 1.4634097183030323, \\  1.4633685270220582, \\  1.4634114594000245, \\  1.463176649795396\\right]$"
      ],
      "text/plain": [
       "[1.4634097183030323, 1.4633685270220582, 1.4634114594000245, 1.463176649795396\n",
       "]"
      ]
     },
     "metadata": {},
     "output_type": "display_data"
    },
    {
     "name": "stdout",
     "output_type": "stream",
     "text": [
      "Ponto mínimo aproximado Xn:\n"
     ]
    },
    {
     "data": {
      "text/latex": [
       "$\\displaystyle \\left[ 1.4633895803361174, \\  1.4633690900330254, \\  1.4632925005692505, \\  1.4633940359826576\\right]$"
      ],
      "text/plain": [
       "[1.4633895803361174, 1.4633690900330254, 1.4632925005692505, 1.463394035982657\n",
       "6]"
      ]
     },
     "metadata": {},
     "output_type": "display_data"
    },
    {
     "name": "stdout",
     "output_type": "stream",
     "text": [
      "Ponto mínimo aproximado Xn:\n"
     ]
    },
    {
     "data": {
      "text/latex": [
       "$\\displaystyle \\left[ 1.4292127631475948, \\  1.1970208959495248, \\  1.671080372210345, \\  1.612864961300911\\right]$"
      ],
      "text/plain": [
       "[1.4292127631475948, 1.1970208959495248, 1.671080372210345, 1.612864961300911]"
      ]
     },
     "metadata": {},
     "output_type": "display_data"
    },
    {
     "name": "stdout",
     "output_type": "stream",
     "text": [
      "Ponto mínimo aproximado Xn:\n"
     ]
    },
    {
     "data": {
      "text/latex": [
       "$\\displaystyle \\left[ 1.4136495983667883, \\  1.085206457574938, \\  1.7575135884285074, \\  1.6748415318633005\\right]$"
      ],
      "text/plain": [
       "[1.4136495983667883, 1.085206457574938, 1.7575135884285074, 1.6748415318633005\n",
       "]"
      ]
     },
     "metadata": {},
     "output_type": "display_data"
    },
    {
     "name": "stdout",
     "output_type": "stream",
     "text": [
      "Ponto mínimo aproximado Xn:\n"
     ]
    },
    {
     "data": {
      "text/latex": [
       "$\\displaystyle \\left[ 1.4605472963428316, \\  1.4396440870247516, \\  1.4817519944525124, \\  1.47597854152015\\right]$"
      ],
      "text/plain": [
       "[1.4605472963428316, 1.4396440870247516, 1.4817519944525124, 1.47597854152015]"
      ]
     },
     "metadata": {},
     "output_type": "display_data"
    },
    {
     "name": "stdout",
     "output_type": "stream",
     "text": [
      "Ponto mínimo aproximado Xn:\n"
     ]
    },
    {
     "data": {
      "text/latex": [
       "$\\displaystyle \\left[ 1.4634717795549448, \\  1.4634713101722905, \\  1.4628105375501619, \\  1.463327764689962\\right]$"
      ],
      "text/plain": [
       "[1.4634717795549448, 1.4634713101722905, 1.4628105375501619, 1.463327764689962\n",
       "]"
      ]
     },
     "metadata": {},
     "output_type": "display_data"
    },
    {
     "name": "stdout",
     "output_type": "stream",
     "text": [
      "Ponto mínimo aproximado Xn:\n"
     ]
    },
    {
     "data": {
      "text/latex": [
       "$\\displaystyle \\left[ 1.4089621109912724, \\  1.048366397912459, \\  1.7852990279136725, \\  1.694722302729779\\right]$"
      ],
      "text/plain": [
       "[1.4089621109912724, 1.048366397912459, 1.7852990279136725, 1.694722302729779]"
      ]
     },
     "metadata": {},
     "output_type": "display_data"
    },
    {
     "name": "stdout",
     "output_type": "stream",
     "text": [
      "Ponto mínimo aproximado Xn:\n"
     ]
    },
    {
     "data": {
      "text/latex": [
       "$\\displaystyle \\left[ 1.431598383258342, \\  1.2125565540170309, \\  1.6599827620632137, \\  1.6048157139456791\\right]$"
      ],
      "text/plain": [
       "[1.431598383258342, 1.2125565540170309, 1.6599827620632137, 1.6048157139456791\n",
       "]"
      ]
     },
     "metadata": {},
     "output_type": "display_data"
    },
    {
     "name": "stdout",
     "output_type": "stream",
     "text": [
      "Ponto mínimo aproximado Xn:\n"
     ]
    },
    {
     "data": {
      "text/latex": [
       "$\\displaystyle \\left[ 1.4569159880278064, \\  1.4091651420406304, \\  1.5054131752037796, \\  1.4938546768200185\\right]$"
      ],
      "text/plain": [
       "[1.4569159880278064, 1.4091651420406304, 1.5054131752037796, 1.493854676820018\n",
       "5]"
      ]
     },
     "metadata": {},
     "output_type": "display_data"
    },
    {
     "name": "stdout",
     "output_type": "stream",
     "text": [
      "Ponto mínimo aproximado Xn:\n"
     ]
    },
    {
     "data": {
      "text/latex": [
       "$\\displaystyle \\left[ 1.4198320666712252, \\  1.1272053152170658, \\  1.725568899810107, \\  1.6519398563897254\\right]$"
      ],
      "text/plain": [
       "[1.4198320666712252, 1.1272053152170658, 1.725568899810107, 1.6519398563897254\n",
       "]"
      ]
     },
     "metadata": {},
     "output_type": "display_data"
    },
    {
     "name": "stdout",
     "output_type": "stream",
     "text": [
      "Ponto mínimo aproximado Xn:\n"
     ]
    },
    {
     "data": {
      "text/latex": [
       "$\\displaystyle \\left[ 1.463382448520853, \\  1.4633822655987048, \\  1.4633828299854446, \\  1.4633416822474912\\right]$"
      ],
      "text/plain": [
       "[1.463382448520853, 1.4633822655987048, 1.4633828299854446, 1.4633416822474912\n",
       "]"
      ]
     },
     "metadata": {},
     "output_type": "display_data"
    },
    {
     "name": "stdout",
     "output_type": "stream",
     "text": [
      "Ponto mínimo aproximado Xn:\n"
     ]
    },
    {
     "data": {
      "text/latex": [
       "$\\displaystyle \\left[ 1.4011639281623312, \\  0.995406959060835, \\  1.8249276253058762, \\  1.7230056932559727\\right]$"
      ],
      "text/plain": [
       "[1.4011639281623312, 0.995406959060835, 1.8249276253058762, 1.7230056932559727\n",
       "]"
      ]
     },
     "metadata": {},
     "output_type": "display_data"
    },
    {
     "name": "stdout",
     "output_type": "stream",
     "text": [
      "Ponto mínimo aproximado Xn:\n"
     ]
    },
    {
     "data": {
      "text/latex": [
       "$\\displaystyle \\left[ 1.4634891467798052, \\  1.4634908660635255, \\  1.462452505036233, \\  1.4634832902102237\\right]$"
      ],
      "text/plain": [
       "[1.4634891467798052, 1.4634908660635255, 1.462452505036233, 1.4634832902102237\n",
       "]"
      ]
     },
     "metadata": {},
     "output_type": "display_data"
    },
    {
     "name": "stdout",
     "output_type": "stream",
     "text": [
      "Ponto mínimo aproximado Xn:\n"
     ]
    },
    {
     "data": {
      "text/latex": [
       "$\\displaystyle \\left[ 1.4449134878377983, \\  1.3129887389051311, \\  1.581161744745624, \\  1.548105224596368\\right]$"
      ],
      "text/plain": [
       "[1.4449134878377983, 1.3129887389051311, 1.581161744745624, 1.548105224596368]"
      ]
     },
     "metadata": {},
     "output_type": "display_data"
    },
    {
     "name": "stdout",
     "output_type": "stream",
     "text": [
      "Ponto mínimo aproximado Xn:\n"
     ]
    },
    {
     "data": {
      "text/latex": [
       "$\\displaystyle \\left[ 1.4634443491930962, \\  1.4634510973281263, \\  1.463426538469607, \\  1.4628284814059949\\right]$"
      ],
      "text/plain": [
       "[1.4634443491930962, 1.4634510973281263, 1.463426538469607, 1.4628284814059949\n",
       "]"
      ]
     },
     "metadata": {},
     "output_type": "display_data"
    },
    {
     "name": "stdout",
     "output_type": "stream",
     "text": [
      "Ponto mínimo aproximado Xn:\n"
     ]
    },
    {
     "data": {
      "text/latex": [
       "$\\displaystyle \\left[ 1.463392607337385, \\  1.46339313894522, \\  1.463266109212343, \\  1.4633933543453743\\right]$"
      ],
      "text/plain": [
       "[1.463392607337385, 1.46339313894522, 1.463266109212343, 1.4633933543453743]"
      ]
     },
     "metadata": {},
     "output_type": "display_data"
    },
    {
     "name": "stdout",
     "output_type": "stream",
     "text": [
      "Ponto mínimo aproximado Xn:\n"
     ]
    },
    {
     "data": {
      "text/latex": [
       "$\\displaystyle \\left[ 1.4633808239129424, \\  1.463380849847858, \\  1.4633802164734833, \\  1.4633558534787685\\right]$"
      ],
      "text/plain": [
       "[1.4633808239129424, 1.463380849847858, 1.4633802164734833, 1.4633558534787685\n",
       "]"
      ]
     },
     "metadata": {},
     "output_type": "display_data"
    },
    {
     "name": "stdout",
     "output_type": "stream",
     "text": [
      "Ponto mínimo aproximado Xn:\n"
     ]
    },
    {
     "data": {
      "text/latex": [
       "$\\displaystyle \\left[ 1.3897627956779661, \\  0.9106366075789158, \\  1.8865226926070626, \\  1.7668169824265767\\right]$"
      ],
      "text/plain": [
       "[1.3897627956779661, 0.9106366075789158, 1.8865226926070626, 1.766816982426576\n",
       "7]"
      ]
     },
     "metadata": {},
     "output_type": "display_data"
    },
    {
     "name": "stdout",
     "output_type": "stream",
     "text": [
      "Ponto mínimo aproximado Xn:\n"
     ]
    },
    {
     "data": {
      "text/latex": [
       "$\\displaystyle \\left[ 1.4633664028853006, \\  1.4633989508364136, \\  1.4632566468306687, \\  1.4633948060260953\\right]$"
      ],
      "text/plain": [
       "[1.4633664028853006, 1.4633989508364136, 1.4632566468306687, 1.463394806026095\n",
       "3]"
      ]
     },
     "metadata": {},
     "output_type": "display_data"
    },
    {
     "name": "stdout",
     "output_type": "stream",
     "text": [
      "Ponto mínimo aproximado Xn:\n"
     ]
    },
    {
     "data": {
      "text/latex": [
       "$\\displaystyle \\left[ 1.4606726029373345, \\  1.439855898295744, \\  1.4812091665090552, \\  1.4760160389355357\\right]$"
      ],
      "text/plain": [
       "[1.4606726029373345, 1.439855898295744, 1.4812091665090552, 1.4760160389355357\n",
       "]"
      ]
     },
     "metadata": {},
     "output_type": "display_data"
    },
    {
     "name": "stdout",
     "output_type": "stream",
     "text": [
      "Ponto mínimo aproximado Xn:\n"
     ]
    },
    {
     "data": {
      "text/latex": [
       "$\\displaystyle \\left[ 1.4634147989738602, \\  1.4634388219861256, \\  1.463381361226194, \\  1.463027597316952\\right]$"
      ],
      "text/plain": [
       "[1.4634147989738602, 1.4634388219861256, 1.463381361226194, 1.463027597316952]"
      ]
     },
     "metadata": {},
     "output_type": "display_data"
    },
    {
     "name": "stdout",
     "output_type": "stream",
     "text": [
      "Ponto mínimo aproximado Xn:\n"
     ]
    },
    {
     "data": {
      "text/latex": [
       "$\\displaystyle \\left[ 1.463266364758966, \\  1.4595888843574183, \\  1.4654416195364486, \\  1.464884905496332\\right]$"
      ],
      "text/plain": [
       "[1.463266364758966, 1.4595888843574183, 1.4654416195364486, 1.464884905496332]"
      ]
     },
     "metadata": {},
     "output_type": "display_data"
    },
    {
     "name": "stdout",
     "output_type": "stream",
     "text": [
      "Ponto mínimo aproximado Xn:\n"
     ]
    },
    {
     "data": {
      "text/latex": [
       "$\\displaystyle \\left[ 1.3278903784498053, \\  0.4951946942965038, \\  2.168830569833904, \\  1.9627705146247862\\right]$"
      ],
      "text/plain": [
       "[1.3278903784498053, 0.4951946942965038, 2.168830569833904, 1.9627705146247862\n",
       "]"
      ]
     },
     "metadata": {},
     "output_type": "display_data"
    },
    {
     "name": "stdout",
     "output_type": "stream",
     "text": [
      "Ponto mínimo aproximado Xn:\n"
     ]
    },
    {
     "data": {
      "text/latex": [
       "$\\displaystyle \\left[ 1.3654264398405505, \\  0.7444302699831189, \\  2.0048715310016543, \\  1.8500022784343864\\right]$"
      ],
      "text/plain": [
       "[1.3654264398405505, 0.7444302699831189, 2.0048715310016543, 1.850002278434386\n",
       "4]"
      ]
     },
     "metadata": {},
     "output_type": "display_data"
    },
    {
     "name": "stdout",
     "output_type": "stream",
     "text": [
      "Ponto mínimo aproximado Xn:\n"
     ]
    },
    {
     "data": {
      "text/latex": [
       "$\\displaystyle \\left[ 1.4633172194433859, \\  1.4633895352847401, \\  1.4633555398163467, \\  1.4633894327770989\\right]$"
      ],
      "text/plain": [
       "[1.4633172194433859, 1.4633895352847401, 1.4633555398163467, 1.463389432777098\n",
       "9]"
      ]
     },
     "metadata": {},
     "output_type": "display_data"
    },
    {
     "name": "stdout",
     "output_type": "stream",
     "text": [
      "Ponto mínimo aproximado Xn:\n"
     ]
    },
    {
     "data": {
      "text/latex": [
       "$\\displaystyle \\left[ 1.463413044600727, \\  1.4634177083521658, \\  1.4633401684958258, \\  1.4631809113078629\\right]$"
      ],
      "text/plain": [
       "[1.463413044600727, 1.4634177083521658, 1.4633401684958258, 1.4631809113078629\n",
       "]"
      ]
     },
     "metadata": {},
     "output_type": "display_data"
    },
    {
     "name": "stdout",
     "output_type": "stream",
     "text": [
      "Ponto mínimo aproximado Xn:\n"
     ]
    },
    {
     "data": {
      "text/latex": [
       "$\\displaystyle \\left[ 1.4173813219717604, \\  1.111338542282579, \\  1.7376698169872353, \\  1.6606203615751283\\right]$"
      ],
      "text/plain": [
       "[1.4173813219717604, 1.111338542282579, 1.7376698169872353, 1.6606203615751283\n",
       "]"
      ]
     },
     "metadata": {},
     "output_type": "display_data"
    },
    {
     "name": "stdout",
     "output_type": "stream",
     "text": [
      "Ponto mínimo aproximado Xn:\n"
     ]
    },
    {
     "data": {
      "text/latex": [
       "$\\displaystyle \\left[ 1.4633833525034, \\  1.4633833526484041, \\  1.463336273974871, \\  1.4633822971806973\\right]$"
      ],
      "text/plain": [
       "[1.4633833525034, 1.4633833526484041, 1.463336273974871, 1.4633822971806973]"
      ]
     },
     "metadata": {},
     "output_type": "display_data"
    },
    {
     "name": "stdout",
     "output_type": "stream",
     "text": [
      "Ponto mínimo aproximado Xn:\n"
     ]
    },
    {
     "data": {
      "text/latex": [
       "$\\displaystyle \\left[ 1.4633863479253488, \\  1.4633909747996687, \\  1.463390973287647, \\  1.4632871670635221\\right]$"
      ],
      "text/plain": [
       "[1.4633863479253488, 1.4633909747996687, 1.463390973287647, 1.4632871670635221\n",
       "]"
      ]
     },
     "metadata": {},
     "output_type": "display_data"
    },
    {
     "name": "stdout",
     "output_type": "stream",
     "text": [
      "Ponto mínimo aproximado Xn:\n"
     ]
    },
    {
     "data": {
      "text/latex": [
       "$\\displaystyle \\left[ 1.463502143505672, \\  1.463501982225221, \\  1.4631678823881473, \\  1.4627329184915983\\right]$"
      ],
      "text/plain": [
       "[1.463502143505672, 1.463501982225221, 1.4631678823881473, 1.4627329184915983]"
      ]
     },
     "metadata": {},
     "output_type": "display_data"
    },
    {
     "name": "stdout",
     "output_type": "stream",
     "text": [
      "Ponto mínimo aproximado Xn:\n"
     ]
    },
    {
     "data": {
      "text/latex": [
       "$\\displaystyle \\left[ 1.4491632576871813, \\  1.350628441090849, \\  1.5522831435071733, \\  1.5272741587557268\\right]$"
      ],
      "text/plain": [
       "[1.4491632576871813, 1.350628441090849, 1.5522831435071733, 1.5272741587557268\n",
       "]"
      ]
     },
     "metadata": {},
     "output_type": "display_data"
    },
    {
     "name": "stdout",
     "output_type": "stream",
     "text": [
      "Ponto mínimo aproximado Xn:\n"
     ]
    },
    {
     "data": {
      "text/latex": [
       "$\\displaystyle \\left[ 1.4633928006573713, \\  1.4633954803684033, \\  1.463252016857079, \\  1.463395390583307\\right]$"
      ],
      "text/plain": [
       "[1.4633928006573713, 1.4633954803684033, 1.463252016857079, 1.463395390583307]"
      ]
     },
     "metadata": {},
     "output_type": "display_data"
    },
    {
     "name": "stdout",
     "output_type": "stream",
     "text": [
      "Ponto mínimo aproximado Xn:\n"
     ]
    },
    {
     "data": {
      "text/latex": [
       "$\\displaystyle \\left[ 1.3767022286699093, \\  0.8265777987759014, \\  1.947945531325646, \\  1.8100995678781333\\right]$"
      ],
      "text/plain": [
       "[1.3767022286699093, 0.8265777987759014, 1.947945531325646, 1.8100995678781333\n",
       "]"
      ]
     },
     "metadata": {},
     "output_type": "display_data"
    },
    {
     "name": "stdout",
     "output_type": "stream",
     "text": [
      "Ponto mínimo aproximado Xn:\n"
     ]
    },
    {
     "data": {
      "text/latex": [
       "$\\displaystyle \\left[ 1.4634037829519109, \\  1.4633587503199814, \\  1.463404249887188, \\  1.4632301262678324\\right]$"
      ],
      "text/plain": [
       "[1.4634037829519109, 1.4633587503199814, 1.463404249887188, 1.4632301262678324\n",
       "]"
      ]
     },
     "metadata": {},
     "output_type": "display_data"
    },
    {
     "name": "stdout",
     "output_type": "stream",
     "text": [
      "Ponto mínimo aproximado Xn:\n"
     ]
    },
    {
     "data": {
      "text/latex": [
       "$\\displaystyle \\left[ 1.3060197458690586, \\  0.3478882816180492, \\  2.2572301397693284, \\  2.0218876403843358\\right]$"
      ],
      "text/plain": [
       "[1.3060197458690586, 0.3478882816180492, 2.2572301397693284, 2.021887640384335\n",
       "8]"
      ]
     },
     "metadata": {},
     "output_type": "display_data"
    },
    {
     "name": "stdout",
     "output_type": "stream",
     "text": [
      "Ponto mínimo aproximado Xn:\n"
     ]
    },
    {
     "data": {
      "text/latex": [
       "$\\displaystyle \\left[ 1.463536864924045, \\  1.4635316467697295, \\  1.4626765058840672, \\  1.463121080746046\\right]$"
      ],
      "text/plain": [
       "[1.463536864924045, 1.4635316467697295, 1.4626765058840672, 1.463121080746046]"
      ]
     },
     "metadata": {},
     "output_type": "display_data"
    },
    {
     "name": "stdout",
     "output_type": "stream",
     "text": [
      "Ponto mínimo aproximado Xn:\n"
     ]
    },
    {
     "data": {
      "text/latex": [
       "$\\displaystyle \\left[ 1.4078910484988159, \\  1.0352950020983176, \\  1.7940164716554265, \\  1.700963717874205\\right]$"
      ],
      "text/plain": [
       "[1.4078910484988159, 1.0352950020983176, 1.7940164716554265, 1.700963717874205\n",
       "]"
      ]
     },
     "metadata": {},
     "output_type": "display_data"
    },
    {
     "name": "stdout",
     "output_type": "stream",
     "text": [
      "Ponto mínimo aproximado Xn:\n"
     ]
    },
    {
     "data": {
      "text/latex": [
       "$\\displaystyle \\left[ 1.4507787306001811, \\  1.3623661100253213, \\  1.5422851917462994, \\  1.5201469436264714\\right]$"
      ],
      "text/plain": [
       "[1.4507787306001811, 1.3623661100253213, 1.5422851917462994, 1.520146943626471\n",
       "4]"
      ]
     },
     "metadata": {},
     "output_type": "display_data"
    },
    {
     "name": "stdout",
     "output_type": "stream",
     "text": [
      "Ponto mínimo aproximado Xn:\n"
     ]
    },
    {
     "data": {
      "text/latex": [
       "$\\displaystyle \\left[ 1.463380840124553, \\  1.4633810081278673, \\  1.4633538177077188, \\  1.4633810084023782\\right]$"
      ],
      "text/plain": [
       "[1.463380840124553, 1.4633810081278673, 1.4633538177077188, 1.4633810084023782\n",
       "]"
      ]
     },
     "metadata": {},
     "output_type": "display_data"
    },
    {
     "name": "stdout",
     "output_type": "stream",
     "text": [
      "Ponto mínimo aproximado Xn:\n"
     ]
    },
    {
     "data": {
      "text/latex": [
       "$\\displaystyle \\left[ 1.432136788488978, \\  1.2174975804012018, \\  1.6555635234956596, \\  1.601743831271961\\right]$"
      ],
      "text/plain": [
       "[1.432136788488978, 1.2174975804012018, 1.6555635234956596, 1.601743831271961]"
      ]
     },
     "metadata": {},
     "output_type": "display_data"
    },
    {
     "name": "stdout",
     "output_type": "stream",
     "text": [
      "Ponto mínimo aproximado Xn:\n"
     ]
    },
    {
     "data": {
      "text/latex": [
       "$\\displaystyle \\left[ 1.463384519910165, \\  1.463384545859879, \\  1.4633844935726277, \\  1.4633252598549258\\right]$"
      ],
      "text/plain": [
       "[1.463384519910165, 1.463384545859879, 1.4633844935726277, 1.4633252598549258]"
      ]
     },
     "metadata": {},
     "output_type": "display_data"
    },
    {
     "name": "stdout",
     "output_type": "stream",
     "text": [
      "Ponto mínimo aproximado Xn:\n"
     ]
    },
    {
     "data": {
      "text/latex": [
       "$\\displaystyle \\left[ 1.3808425863441314, \\  0.8461915467188413, \\  1.9331495413478037, \\  1.7997511127905155\\right]$"
      ],
      "text/plain": [
       "[1.3808425863441314, 0.8461915467188413, 1.9331495413478037, 1.799751112790515\n",
       "5]"
      ]
     },
     "metadata": {},
     "output_type": "display_data"
    },
    {
     "name": "stdout",
     "output_type": "stream",
     "text": [
      "Ponto mínimo aproximado Xn:\n"
     ]
    },
    {
     "data": {
      "text/latex": [
       "$\\displaystyle \\left[ 1.3725811004569022, \\  0.7964254030623209, \\  1.9690693754161959, \\  1.8249544282868433\\right]$"
      ],
      "text/plain": [
       "[1.3725811004569022, 0.7964254030623209, 1.9690693754161959, 1.824954428286843\n",
       "3]"
      ]
     },
     "metadata": {},
     "output_type": "display_data"
    },
    {
     "name": "stdout",
     "output_type": "stream",
     "text": [
      "Ponto mínimo aproximado Xn:\n"
     ]
    },
    {
     "data": {
      "text/latex": [
       "$\\displaystyle \\left[ 1.435520140759085, \\  1.2431777655162632, \\  1.6362851377353733, \\  1.587756952525494\\right]$"
      ],
      "text/plain": [
       "[1.435520140759085, 1.2431777655162632, 1.6362851377353733, 1.587756952525494]"
      ]
     },
     "metadata": {},
     "output_type": "display_data"
    },
    {
     "name": "stdout",
     "output_type": "stream",
     "text": [
      "Ponto mínimo aproximado Xn:\n"
     ]
    },
    {
     "data": {
      "text/latex": [
       "$\\displaystyle \\left[ 1.3973263532645923, \\  0.9638215150011196, \\  1.8474379682946571, \\  1.7390433357902289\\right]$"
      ],
      "text/plain": [
       "[1.3973263532645923, 0.9638215150011196, 1.8474379682946571, 1.739043335790228\n",
       "9]"
      ]
     },
     "metadata": {},
     "output_type": "display_data"
    },
    {
     "name": "stdout",
     "output_type": "stream",
     "text": [
      "Ponto mínimo aproximado Xn:\n"
     ]
    },
    {
     "data": {
      "text/latex": [
       "$\\displaystyle \\left[ 1.4600731753317646, \\  1.4397510547506922, \\  1.482139066129712, \\  1.4768527186326101\\right]$"
      ],
      "text/plain": [
       "[1.4600731753317646, 1.4397510547506922, 1.482139066129712, 1.4768527186326101\n",
       "]"
      ]
     },
     "metadata": {},
     "output_type": "display_data"
    },
    {
     "name": "stdout",
     "output_type": "stream",
     "text": [
      "Ponto mínimo aproximado Xn:\n"
     ]
    },
    {
     "data": {
      "text/latex": [
       "$\\displaystyle \\left[ 1.4418728404936705, \\  1.2888810499361756, \\  1.600149447636353, \\  1.5613767228805275\\right]$"
      ],
      "text/plain": [
       "[1.4418728404936705, 1.2888810499361756, 1.600149447636353, 1.5613767228805275\n",
       "]"
      ]
     },
     "metadata": {},
     "output_type": "display_data"
    },
    {
     "name": "stdout",
     "output_type": "stream",
     "text": [
      "Ponto mínimo aproximado Xn:\n"
     ]
    },
    {
     "data": {
      "text/latex": [
       "$\\displaystyle \\left[ 1.463383551020611, \\  1.4633777094271394, \\  1.4633560120549431, \\  1.4633668173523968\\right]$"
      ],
      "text/plain": [
       "[1.463383551020611, 1.4633777094271394, 1.4633560120549431, 1.4633668173523968\n",
       "]"
      ]
     },
     "metadata": {},
     "output_type": "display_data"
    },
    {
     "name": "stdout",
     "output_type": "stream",
     "text": [
      "Ponto mínimo aproximado Xn:\n"
     ]
    },
    {
     "data": {
      "text/latex": [
       "$\\displaystyle \\left[ 1.463399067617389, \\  1.463382815225627, \\  1.4632180536932216, \\  1.4634032331346718\\right]$"
      ],
      "text/plain": [
       "[1.463399067617389, 1.463382815225627, 1.4632180536932216, 1.4634032331346718]"
      ]
     },
     "metadata": {},
     "output_type": "display_data"
    },
    {
     "name": "stdout",
     "output_type": "stream",
     "text": [
      "Ponto mínimo aproximado Xn:\n"
     ]
    },
    {
     "data": {
      "text/latex": [
       "$\\displaystyle \\left[ 1.4633142048155248, \\  1.463391090863598, \\  1.4633923987711606, \\  1.4633551577422959\\right]$"
      ],
      "text/plain": [
       "[1.4633142048155248, 1.463391090863598, 1.4633923987711606, 1.4633551577422959\n",
       "]"
      ]
     },
     "metadata": {},
     "output_type": "display_data"
    },
    {
     "name": "stdout",
     "output_type": "stream",
     "text": [
      "Ponto mínimo aproximado Xn:\n"
     ]
    },
    {
     "data": {
      "text/latex": [
       "$\\displaystyle \\left[ 1.4339143997522363, \\  1.234404911527653, \\  1.6431062165780024, \\  1.5926667442480045\\right]$"
      ],
      "text/plain": [
       "[1.4339143997522363, 1.234404911527653, 1.6431062165780024, 1.5926667442480045\n",
       "]"
      ]
     },
     "metadata": {},
     "output_type": "display_data"
    },
    {
     "name": "stdout",
     "output_type": "stream",
     "text": [
      "Ponto mínimo aproximado Xn:\n"
     ]
    },
    {
     "data": {
      "text/latex": [
       "$\\displaystyle \\left[ 1.463380640673381, \\  1.463380642882936, \\  1.4633806434742551, \\  1.463356567242192\\right]$"
      ],
      "text/plain": [
       "[1.463380640673381, 1.463380642882936, 1.4633806434742551, 1.463356567242192]"
      ]
     },
     "metadata": {},
     "output_type": "display_data"
    },
    {
     "name": "stdout",
     "output_type": "stream",
     "text": [
      "Ponto mínimo aproximado Xn:\n"
     ]
    },
    {
     "data": {
      "text/latex": [
       "$\\displaystyle \\left[ 1.4235727441725397, \\  1.1537900536893366, \\  1.705235538214247, \\  1.6373426589266213\\right]$"
      ],
      "text/plain": [
       "[1.4235727441725397, 1.1537900536893366, 1.705235538214247, 1.6373426589266213\n",
       "]"
      ]
     },
     "metadata": {},
     "output_type": "display_data"
    },
    {
     "name": "stdout",
     "output_type": "stream",
     "text": [
      "Ponto mínimo aproximado Xn:\n"
     ]
    },
    {
     "data": {
      "text/latex": [
       "$\\displaystyle \\left[ 1.463085978008749, \\  1.4631455640835447, \\  1.4636409734684221, \\  1.4635145844497717\\right]$"
      ],
      "text/plain": [
       "[1.463085978008749, 1.4631455640835447, 1.4636409734684221, 1.4635145844497717\n",
       "]"
      ]
     },
     "metadata": {},
     "output_type": "display_data"
    },
    {
     "name": "stdout",
     "output_type": "stream",
     "text": [
      "Ponto mínimo aproximado Xn:\n"
     ]
    },
    {
     "data": {
      "text/latex": [
       "$\\displaystyle \\left[ 1.4191023478703533, \\  1.126220164183166, \\  1.7263446759748915, \\  1.6524972614214002\\right]$"
      ],
      "text/plain": [
       "[1.4191023478703533, 1.126220164183166, 1.7263446759748915, 1.6524972614214002\n",
       "]"
      ]
     },
     "metadata": {},
     "output_type": "display_data"
    },
    {
     "name": "stdout",
     "output_type": "stream",
     "text": [
      "Ponto mínimo aproximado Xn:\n"
     ]
    },
    {
     "data": {
      "text/latex": [
       "$\\displaystyle \\left[ 1.4635028867288054, \\  1.4633058393231344, \\  1.46247797195915, \\  1.4635251750486737\\right]$"
      ],
      "text/plain": [
       "[1.4635028867288054, 1.4633058393231344, 1.46247797195915, 1.4635251750486737]"
      ]
     },
     "metadata": {},
     "output_type": "display_data"
    },
    {
     "name": "stdout",
     "output_type": "stream",
     "text": [
      "Ponto mínimo aproximado Xn:\n"
     ]
    },
    {
     "data": {
      "text/latex": [
       "$\\displaystyle \\left[ 1.4633561391985814, \\  1.4634297582390867, \\  1.4634796945938373, \\  1.4628931364803426\\right]$"
      ],
      "text/plain": [
       "[1.4633561391985814, 1.4634297582390867, 1.4634796945938373, 1.462893136480342\n",
       "6]"
      ]
     },
     "metadata": {},
     "output_type": "display_data"
    },
    {
     "name": "stdout",
     "output_type": "stream",
     "text": [
      "Ponto mínimo aproximado Xn:\n"
     ]
    },
    {
     "data": {
      "text/latex": [
       "$\\displaystyle \\left[ 1.4634797106442996, \\  1.4633788390802231, \\  1.4626756450328962, \\  1.4634797139701363\\right]$"
      ],
      "text/plain": [
       "[1.4634797106442996, 1.4633788390802231, 1.4626756450328962, 1.463479713970136\n",
       "3]"
      ]
     },
     "metadata": {},
     "output_type": "display_data"
    },
    {
     "name": "stdout",
     "output_type": "stream",
     "text": [
      "Ponto mínimo aproximado Xn:\n"
     ]
    },
    {
     "data": {
      "text/latex": [
       "$\\displaystyle \\left[ 1.3084697180158158, \\  0.3711878593160069, \\  2.244012176320772, \\  2.0131206783279567\\right]$"
      ],
      "text/plain": [
       "[1.3084697180158158, 0.3711878593160069, 2.244012176320772, 2.0131206783279567\n",
       "]"
      ]
     },
     "metadata": {},
     "output_type": "display_data"
    },
    {
     "name": "stdout",
     "output_type": "stream",
     "text": [
      "Ponto mínimo aproximado Xn:\n"
     ]
    },
    {
     "data": {
      "text/latex": [
       "$\\displaystyle \\left[ 1.4548941208764896, \\  1.396327793527679, \\  1.5164033866880202, \\  1.501464383220683\\right]$"
      ],
      "text/plain": [
       "[1.4548941208764896, 1.396327793527679, 1.5164033866880202, 1.501464383220683]"
      ]
     },
     "metadata": {},
     "output_type": "display_data"
    },
    {
     "name": "stdout",
     "output_type": "stream",
     "text": [
      "Ponto mínimo aproximado Xn:\n"
     ]
    },
    {
     "data": {
      "text/latex": [
       "$\\displaystyle \\left[ 1.4633822854771656, \\  1.4633822097283133, \\  1.4633822884998093, \\  1.463343428077201\\right]$"
      ],
      "text/plain": [
       "[1.4633822854771656, 1.4633822097283133, 1.4633822884998093, 1.463343428077201\n",
       "]"
      ]
     },
     "metadata": {},
     "output_type": "display_data"
    },
    {
     "name": "stdout",
     "output_type": "stream",
     "text": [
      "Ponto mínimo aproximado Xn:\n"
     ]
    },
    {
     "data": {
      "text/latex": [
       "$\\displaystyle \\left[ 1.463386784750106, \\  1.4633867770771016, \\  1.4633533583693634, \\  1.4633388172353883\\right]$"
      ],
      "text/plain": [
       "[1.463386784750106, 1.4633867770771016, 1.4633533583693634, 1.4633388172353883\n",
       "]"
      ]
     },
     "metadata": {},
     "output_type": "display_data"
    },
    {
     "name": "stdout",
     "output_type": "stream",
     "text": [
      "Ponto mínimo aproximado Xn:\n"
     ]
    },
    {
     "data": {
      "text/latex": [
       "$\\displaystyle \\left[ 1.4634341568224218, \\  1.4634342859859064, \\  1.462925192766627, \\  1.463434370579609\\right]$"
      ],
      "text/plain": [
       "[1.4634341568224218, 1.4634342859859064, 1.462925192766627, 1.463434370579609]"
      ]
     },
     "metadata": {},
     "output_type": "display_data"
    },
    {
     "name": "stdout",
     "output_type": "stream",
     "text": [
      "Ponto mínimo aproximado Xn:\n"
     ]
    },
    {
     "data": {
      "text/latex": [
       "$\\displaystyle \\left[ 1.463381222654975, \\  1.4633812209422765, \\  1.4633812078702875, \\  1.4633519007551625\\right]$"
      ],
      "text/plain": [
       "[1.463381222654975, 1.4633812209422765, 1.4633812078702875, 1.4633519007551625\n",
       "]"
      ]
     },
     "metadata": {},
     "output_type": "display_data"
    },
    {
     "name": "stdout",
     "output_type": "stream",
     "text": [
      "Ponto mínimo aproximado Xn:\n"
     ]
    },
    {
     "data": {
      "text/latex": [
       "$\\displaystyle \\left[ 1.4633240321751404, \\  1.4633873573791987, \\  1.4633860013270945, \\  1.463369259188248\\right]$"
      ],
      "text/plain": [
       "[1.4633240321751404, 1.4633873573791987, 1.4633860013270945, 1.463369259188248\n",
       "]"
      ]
     },
     "metadata": {},
     "output_type": "display_data"
    },
    {
     "name": "stdout",
     "output_type": "stream",
     "text": [
      "Ponto mínimo aproximado Xn:\n"
     ]
    },
    {
     "data": {
      "text/latex": [
       "$\\displaystyle \\left[ 1.463353323051072, \\  1.4633909267067493, \\  1.4633909331969912, \\  1.4633210631668645\\right]$"
      ],
      "text/plain": [
       "[1.463353323051072, 1.4633909267067493, 1.4633909331969912, 1.4633210631668645\n",
       "]"
      ]
     },
     "metadata": {},
     "output_type": "display_data"
    },
    {
     "name": "stdout",
     "output_type": "stream",
     "text": [
      "Ponto mínimo aproximado Xn:\n"
     ]
    },
    {
     "data": {
      "text/latex": [
       "$\\displaystyle \\left[ 1.4634200726733166, \\  1.4634202108354335, \\  1.4634195813126498, \\  1.4630476236784558\\right]$"
      ],
      "text/plain": [
       "[1.4634200726733166, 1.4634202108354335, 1.4634195813126498, 1.463047623678455\n",
       "8]"
      ]
     },
     "metadata": {},
     "output_type": "display_data"
    },
    {
     "name": "stdout",
     "output_type": "stream",
     "text": [
      "Ponto mínimo aproximado Xn:\n"
     ]
    },
    {
     "data": {
      "text/latex": [
       "$\\displaystyle \\left[ 1.4297089303660466, \\  1.1997543596803857, \\  1.6698927755767943, \\  1.6119390819706396\\right]$"
      ],
      "text/plain": [
       "[1.4297089303660466, 1.1997543596803857, 1.6698927755767943, 1.611939081970639\n",
       "6]"
      ]
     },
     "metadata": {},
     "output_type": "display_data"
    },
    {
     "name": "stdout",
     "output_type": "stream",
     "text": [
      "Ponto mínimo aproximado Xn:\n"
     ]
    },
    {
     "data": {
      "text/latex": [
       "$\\displaystyle \\left[ 1.4041566546120365, \\  1.0096155980607295, \\  1.8136153061615505, \\  1.7149696104889731\\right]$"
      ],
      "text/plain": [
       "[1.4041566546120365, 1.0096155980607295, 1.8136153061615505, 1.714969610488973\n",
       "1]"
      ]
     },
     "metadata": {},
     "output_type": "display_data"
    },
    {
     "name": "stdout",
     "output_type": "stream",
     "text": [
      "Ponto mínimo aproximado Xn:\n"
     ]
    },
    {
     "data": {
      "text/latex": [
       "$\\displaystyle \\left[ 1.4280651253594192, \\  1.1888289873901716, \\  1.6783038265390782, \\  1.6179899811626581\\right]$"
      ],
      "text/plain": [
       "[1.4280651253594192, 1.1888289873901716, 1.6783038265390782, 1.617989981162658\n",
       "1]"
      ]
     },
     "metadata": {},
     "output_type": "display_data"
    },
    {
     "name": "stdout",
     "output_type": "stream",
     "text": [
      "Ponto mínimo aproximado Xn:\n"
     ]
    },
    {
     "data": {
      "text/latex": [
       "$\\displaystyle \\left[ 1.4476550159949513, \\  1.3390361028213023, \\  1.5614710641595424, \\  1.5338916222845413\\right]$"
      ],
      "text/plain": [
       "[1.4476550159949513, 1.3390361028213023, 1.5614710641595424, 1.533891622284541\n",
       "3]"
      ]
     },
     "metadata": {},
     "output_type": "display_data"
    },
    {
     "name": "stdout",
     "output_type": "stream",
     "text": [
      "Ponto mínimo aproximado Xn:\n"
     ]
    },
    {
     "data": {
      "text/latex": [
       "$\\displaystyle \\left[ 1.4081333160147302, \\  1.0433023767727962, \\  1.7889255885716049, \\  1.6973258403305862\\right]$"
      ],
      "text/plain": [
       "[1.4081333160147302, 1.0433023767727962, 1.7889255885716049, 1.697325840330586\n",
       "2]"
      ]
     },
     "metadata": {},
     "output_type": "display_data"
    },
    {
     "name": "stdout",
     "output_type": "stream",
     "text": [
      "Ponto mínimo aproximado Xn:\n"
     ]
    },
    {
     "data": {
      "text/latex": [
       "$\\displaystyle \\left[ 1.4520085107703757, \\  1.3700450253496175, \\  1.5362908351285824, \\  1.5160145099347668\\right]$"
      ],
      "text/plain": [
       "[1.4520085107703757, 1.3700450253496175, 1.5362908351285824, 1.516014509934766\n",
       "8]"
      ]
     },
     "metadata": {},
     "output_type": "display_data"
    },
    {
     "name": "stdout",
     "output_type": "stream",
     "text": [
      "Ponto mínimo aproximado Xn:\n"
     ]
    },
    {
     "data": {
      "text/latex": [
       "$\\displaystyle \\left[ 1.4154439523289608, \\  1.0986372777217253, \\  1.7473316225259032, \\  1.6675468020298039\\right]$"
      ],
      "text/plain": [
       "[1.4154439523289608, 1.0986372777217253, 1.7473316225259032, 1.667546802029803\n",
       "9]"
      ]
     },
     "metadata": {},
     "output_type": "display_data"
    },
    {
     "name": "stdout",
     "output_type": "stream",
     "text": [
      "Ponto mínimo aproximado Xn:\n"
     ]
    },
    {
     "data": {
      "text/latex": [
       "$\\displaystyle \\left[ 1.4197699360396565, \\  1.1258613017525652, \\  1.7265898545964942, \\  1.6526722572640609\\right]$"
      ],
      "text/plain": [
       "[1.4197699360396565, 1.1258613017525652, 1.7265898545964942, 1.652672257264060\n",
       "9]"
      ]
     },
     "metadata": {},
     "output_type": "display_data"
    },
    {
     "name": "stdout",
     "output_type": "stream",
     "text": [
      "Ponto mínimo aproximado Xn:\n"
     ]
    },
    {
     "data": {
      "text/latex": [
       "$\\displaystyle \\left[ 1.4631208021606708, \\  1.4635014532275292, \\  1.4627123026478783, \\  1.4635602464334443\\right]$"
      ],
      "text/plain": [
       "[1.4631208021606708, 1.4635014532275292, 1.4627123026478783, 1.463560246433444\n",
       "3]"
      ]
     },
     "metadata": {},
     "output_type": "display_data"
    },
    {
     "name": "stdout",
     "output_type": "stream",
     "text": [
      "Ponto mínimo aproximado Xn:\n"
     ]
    },
    {
     "data": {
      "text/latex": [
       "$\\displaystyle \\left[ 1.410499120404481, \\  1.0587380746608894, \\  1.7774872322300557, \\  1.6891365186825011\\right]$"
      ],
      "text/plain": [
       "[1.410499120404481, 1.0587380746608894, 1.7774872322300557, 1.6891365186825011\n",
       "]"
      ]
     },
     "metadata": {},
     "output_type": "display_data"
    },
    {
     "name": "stdout",
     "output_type": "stream",
     "text": [
      "Ponto mínimo aproximado Xn:\n"
     ]
    },
    {
     "data": {
      "text/latex": [
       "$\\displaystyle \\left[ 1.417888759511532, \\  1.108105301391363, \\  1.7395973635115916, \\  1.6618818095603924\\right]$"
      ],
      "text/plain": [
       "[1.417888759511532, 1.108105301391363, 1.7395973635115916, 1.6618818095603924]"
      ]
     },
     "metadata": {},
     "output_type": "display_data"
    },
    {
     "name": "stdout",
     "output_type": "stream",
     "text": [
      "Ponto mínimo aproximado Xn:\n"
     ]
    },
    {
     "data": {
      "text/latex": [
       "$\\displaystyle \\left[ 1.4553827746823456, \\  1.4004609879757242, \\  1.5131464611987144, \\  1.49912237831195\\right]$"
      ],
      "text/plain": [
       "[1.4553827746823456, 1.4004609879757242, 1.5131464611987144, 1.49912237831195]"
      ]
     },
     "metadata": {},
     "output_type": "display_data"
    },
    {
     "name": "stdout",
     "output_type": "stream",
     "text": [
      "Ponto mínimo aproximado Xn:\n"
     ]
    },
    {
     "data": {
      "text/latex": [
       "$\\displaystyle \\left[ 1.4634683040512, \\  1.4634715206852802, \\  1.4634545752839263, \\  1.46263340889473\\right]$"
      ],
      "text/plain": [
       "[1.4634683040512, 1.4634715206852802, 1.4634545752839263, 1.46263340889473]"
      ]
     },
     "metadata": {},
     "output_type": "display_data"
    },
    {
     "name": "stdout",
     "output_type": "stream",
     "text": [
      "Ponto mínimo aproximado Xn:\n"
     ]
    },
    {
     "data": {
      "text/latex": [
       "$\\displaystyle \\left[ 1.406111026411643, \\  1.0232757717306027, \\  1.8035250059044523, \\  1.7077687954763063\\right]$"
      ],
      "text/plain": [
       "[1.406111026411643, 1.0232757717306027, 1.8035250059044523, 1.7077687954763063\n",
       "]"
      ]
     },
     "metadata": {},
     "output_type": "display_data"
    },
    {
     "name": "stdout",
     "output_type": "stream",
     "text": [
      "Ponto mínimo aproximado Xn:\n"
     ]
    },
    {
     "data": {
      "text/latex": [
       "$\\displaystyle \\left[ 1.4633918105788006, \\  1.4633917849161773, \\  1.463391812996892, \\  1.4632757386846909\\right]$"
      ],
      "text/plain": [
       "[1.4633918105788006, 1.4633917849161773, 1.463391812996892, 1.4632757386846909\n",
       "]"
      ]
     },
     "metadata": {},
     "output_type": "display_data"
    },
    {
     "name": "stdout",
     "output_type": "stream",
     "text": [
      "Ponto mínimo aproximado Xn:\n"
     ]
    },
    {
     "data": {
      "text/latex": [
       "$\\displaystyle \\left[ 1.4587243624323434, \\  1.4230772596177994, \\  1.494314880818366, \\  1.4857228359899648\\right]$"
      ],
      "text/plain": [
       "[1.4587243624323434, 1.4230772596177994, 1.494314880818366, 1.4857228359899648\n",
       "]"
      ]
     },
     "metadata": {},
     "output_type": "display_data"
    },
    {
     "name": "stdout",
     "output_type": "stream",
     "text": [
      "Ponto mínimo aproximado Xn:\n"
     ]
    },
    {
     "data": {
      "text/latex": [
       "$\\displaystyle \\left[ 1.4633803781165542, \\  1.4633940004816246, \\  1.4633949038113043, \\  1.46327000227592\\right]$"
      ],
      "text/plain": [
       "[1.4633803781165542, 1.4633940004816246, 1.4633949038113043, 1.46327000227592]"
      ]
     },
     "metadata": {},
     "output_type": "display_data"
    },
    {
     "name": "stdout",
     "output_type": "stream",
     "text": [
      "Ponto mínimo aproximado Xn:\n"
     ]
    },
    {
     "data": {
      "text/latex": [
       "$\\displaystyle \\left[ 1.4633880223372053, \\  1.463388015427785, \\  1.4633022382501473, \\  1.4633835894777283\\right]$"
      ],
      "text/plain": [
       "[1.4633880223372053, 1.463388015427785, 1.4633022382501473, 1.4633835894777283\n",
       "]"
      ]
     },
     "metadata": {},
     "output_type": "display_data"
    },
    {
     "name": "stdout",
     "output_type": "stream",
     "text": [
      "Ponto mínimo aproximado Xn:\n"
     ]
    },
    {
     "data": {
      "text/latex": [
       "$\\displaystyle \\left[ 1.4120886868718174, \\  1.0717945150290056, \\  1.7676457354891941, \\  1.6820954493495555\\right]$"
      ],
      "text/plain": [
       "[1.4120886868718174, 1.0717945150290056, 1.7676457354891941, 1.682095449349555\n",
       "5]"
      ]
     },
     "metadata": {},
     "output_type": "display_data"
    },
    {
     "name": "stdout",
     "output_type": "stream",
     "text": [
      "Ponto mínimo aproximado Xn:\n"
     ]
    },
    {
     "data": {
      "text/latex": [
       "$\\displaystyle \\left[ 1.3050990115160004, \\  0.34414001272873396, \\  2.2594631341372624, \\  2.023358581755975\\right]$"
      ],
      "text/plain": [
       "[1.3050990115160004, 0.34414001272873396, 2.2594631341372624, 2.02335858175597\n",
       "5]"
      ]
     },
     "metadata": {},
     "output_type": "display_data"
    },
    {
     "name": "stdout",
     "output_type": "stream",
     "text": [
      "Ponto mínimo aproximado Xn:\n"
     ]
    },
    {
     "data": {
      "text/latex": [
       "$\\displaystyle \\left[ 1.463212846490612, \\  1.4634155057498226, \\  1.4634146544077782, \\  1.4633200081857756\\right]$"
      ],
      "text/plain": [
       "[1.463212846490612, 1.4634155057498226, 1.4634146544077782, 1.4633200081857756\n",
       "]"
      ]
     },
     "metadata": {},
     "output_type": "display_data"
    },
    {
     "name": "stdout",
     "output_type": "stream",
     "text": [
      "Ponto mínimo aproximado Xn:\n"
     ]
    },
    {
     "data": {
      "text/latex": [
       "$\\displaystyle \\left[ 1.4308854729312284, \\  1.207968171872898, \\  1.6635489051006351, \\  1.6073758561389448\\right]$"
      ],
      "text/plain": [
       "[1.4308854729312284, 1.207968171872898, 1.6635489051006351, 1.6073758561389448\n",
       "]"
      ]
     },
     "metadata": {},
     "output_type": "display_data"
    },
    {
     "name": "stdout",
     "output_type": "stream",
     "text": [
      "Ponto mínimo aproximado Xn:\n"
     ]
    },
    {
     "data": {
      "text/latex": [
       "$\\displaystyle \\left[ 1.4515866684551326, \\  1.3674269142211157, \\  1.5388079869546254, \\  1.5172061723324182\\right]$"
      ],
      "text/plain": [
       "[1.4515866684551326, 1.3674269142211157, 1.5388079869546254, 1.517206172332418\n",
       "2]"
      ]
     },
     "metadata": {},
     "output_type": "display_data"
    },
    {
     "name": "stdout",
     "output_type": "stream",
     "text": [
      "Ponto mínimo aproximado Xn:\n"
     ]
    },
    {
     "data": {
      "text/latex": [
       "$\\displaystyle \\left[ 1.463379379539365, \\  1.4633811837953703, \\  1.463356248472398, \\  1.4633810519199835\\right]$"
      ],
      "text/plain": [
       "[1.463379379539365, 1.4633811837953703, 1.463356248472398, 1.4633810519199835]"
      ]
     },
     "metadata": {},
     "output_type": "display_data"
    },
    {
     "name": "stdout",
     "output_type": "stream",
     "text": [
      "Ponto mínimo aproximado Xn:\n"
     ]
    },
    {
     "data": {
      "text/latex": [
       "$\\displaystyle \\left[ 1.4633617280863613, \\  1.463389636852458, \\  1.4633887061576387, \\  1.4633132361365204\\right]$"
      ],
      "text/plain": [
       "[1.4633617280863613, 1.463389636852458, 1.4633887061576387, 1.4633132361365204\n",
       "]"
      ]
     },
     "metadata": {},
     "output_type": "display_data"
    },
    {
     "name": "stdout",
     "output_type": "stream",
     "text": [
      "Ponto mínimo aproximado Xn:\n"
     ]
    },
    {
     "data": {
      "text/latex": [
       "$\\displaystyle \\left[ 1.4584798448130756, \\  1.4216668687403138, \\  1.4957283639738903, \\  1.4864054346278301\\right]$"
      ],
      "text/plain": [
       "[1.4584798448130756, 1.4216668687403138, 1.4957283639738903, 1.486405434627830\n",
       "1]"
      ]
     },
     "metadata": {},
     "output_type": "display_data"
    },
    {
     "name": "stdout",
     "output_type": "stream",
     "text": [
      "Ponto mínimo aproximado Xn:\n"
     ]
    },
    {
     "data": {
      "text/latex": [
       "$\\displaystyle \\left[ 1.4634267062361723, \\  1.4634218485352477, \\  1.462949334528361, \\  1.4634338774197069\\right]$"
      ],
      "text/plain": [
       "[1.4634267062361723, 1.4634218485352477, 1.462949334528361, 1.4634338774197069\n",
       "]"
      ]
     },
     "metadata": {},
     "output_type": "display_data"
    },
    {
     "name": "stdout",
     "output_type": "stream",
     "text": [
      "Ponto mínimo aproximado Xn:\n"
     ]
    },
    {
     "data": {
      "text/latex": [
       "$\\displaystyle \\left[ 1.4633223142300638, \\  1.4633948859406287, \\  1.4633948761994753, \\  1.4633252364350209\\right]$"
      ],
      "text/plain": [
       "[1.4633223142300638, 1.4633948859406287, 1.4633948761994753, 1.463325236435020\n",
       "9]"
      ]
     },
     "metadata": {},
     "output_type": "display_data"
    },
    {
     "name": "stdout",
     "output_type": "stream",
     "text": [
      "Ponto mínimo aproximado Xn:\n"
     ]
    },
    {
     "data": {
      "text/latex": [
       "$\\displaystyle \\left[ 1.463381339108049, \\  1.4633811367201255, \\  1.463351187287905, \\  1.463381323087852\\right]$"
      ],
      "text/plain": [
       "[1.463381339108049, 1.4633811367201255, 1.463351187287905, 1.463381323087852]"
      ]
     },
     "metadata": {},
     "output_type": "display_data"
    },
    {
     "name": "stdout",
     "output_type": "stream",
     "text": [
      "Ponto mínimo aproximado Xn:\n"
     ]
    },
    {
     "data": {
      "text/latex": [
       "$\\displaystyle \\left[ 1.4499831897018995, \\  1.360806800892545, \\  1.5443954643943538, \\  1.5216018642251772\\right]$"
      ],
      "text/plain": [
       "[1.4499831897018995, 1.360806800892545, 1.5443954643943538, 1.5216018642251772\n",
       "]"
      ]
     },
     "metadata": {},
     "output_type": "display_data"
    },
    {
     "name": "stdout",
     "output_type": "stream",
     "text": [
      "Ponto mínimo aproximado Xn:\n"
     ]
    },
    {
     "data": {
      "text/latex": [
       "$\\displaystyle \\left[ 1.4631717522765337, \\  1.4619066494629962, \\  1.4645506794943648, \\  1.4642176785196614\\right]$"
      ],
      "text/plain": [
       "[1.4631717522765337, 1.4619066494629962, 1.4645506794943648, 1.464217678519661\n",
       "4]"
      ]
     },
     "metadata": {},
     "output_type": "display_data"
    },
    {
     "name": "stdout",
     "output_type": "stream",
     "text": [
      "Ponto mínimo aproximado Xn:\n"
     ]
    },
    {
     "data": {
      "text/latex": [
       "$\\displaystyle \\left[ 1.4633819761794773, \\  1.4633768187982705, \\  1.463305931265753, \\  1.4633782141259235\\right]$"
      ],
      "text/plain": [
       "[1.4633819761794773, 1.4633768187982705, 1.463305931265753, 1.4633782141259235\n",
       "]"
      ]
     },
     "metadata": {},
     "output_type": "display_data"
    },
    {
     "name": "stdout",
     "output_type": "stream",
     "text": [
      "Ponto mínimo aproximado Xn:\n"
     ]
    },
    {
     "data": {
      "text/latex": [
       "$\\displaystyle \\left[ 1.355191870188472, \\  0.6810638231234286, \\  2.049100355610544, \\  1.880676623904946\\right]$"
      ],
      "text/plain": [
       "[1.355191870188472, 0.6810638231234286, 2.049100355610544, 1.880676623904946]"
      ]
     },
     "metadata": {},
     "output_type": "display_data"
    },
    {
     "name": "stdout",
     "output_type": "stream",
     "text": [
      "Ponto mínimo aproximado Xn:\n"
     ]
    },
    {
     "data": {
      "text/latex": [
       "$\\displaystyle \\left[ 1.4634541850143918, \\  1.463460717904828, \\  1.462736526597209, \\  1.4634413896668266\\right]$"
      ],
      "text/plain": [
       "[1.4634541850143918, 1.463460717904828, 1.462736526597209, 1.4634413896668266]"
      ]
     },
     "metadata": {},
     "output_type": "display_data"
    },
    {
     "name": "stdout",
     "output_type": "stream",
     "text": [
      "Ponto mínimo aproximado Xn:\n"
     ]
    },
    {
     "data": {
      "text/latex": [
       "$\\displaystyle \\left[ 1.3849992143980263, \\  0.875439083302455, \\  1.9122922234846516, \\  1.7849769791258965\\right]$"
      ],
      "text/plain": [
       "[1.3849992143980263, 0.875439083302455, 1.9122922234846516, 1.7849769791258965\n",
       "]"
      ]
     },
     "metadata": {},
     "output_type": "display_data"
    },
    {
     "name": "stdout",
     "output_type": "stream",
     "text": [
      "Ponto mínimo aproximado Xn:\n"
     ]
    },
    {
     "data": {
      "text/latex": [
       "$\\displaystyle \\left[ 1.4633917252330708, \\  1.4633888598218412, \\  1.4633917259388998, \\  1.4632795167697001\\right]$"
      ],
      "text/plain": [
       "[1.4633917252330708, 1.4633888598218412, 1.4633917259388998, 1.463279516769700\n",
       "1]"
      ]
     },
     "metadata": {},
     "output_type": "display_data"
    },
    {
     "name": "stdout",
     "output_type": "stream",
     "text": [
      "Ponto mínimo aproximado Xn:\n"
     ]
    },
    {
     "data": {
      "text/latex": [
       "$\\displaystyle \\left[ 1.3976861710021236, \\  0.9687329732666419, \\  1.8446928437165264, \\  1.7370752097213282\\right]$"
      ],
      "text/plain": [
       "[1.3976861710021236, 0.9687329732666419, 1.8446928437165264, 1.737075209721328\n",
       "2]"
      ]
     },
     "metadata": {},
     "output_type": "display_data"
    },
    {
     "name": "stdout",
     "output_type": "stream",
     "text": [
      "Ponto mínimo aproximado Xn:\n"
     ]
    },
    {
     "data": {
      "text/latex": [
       "$\\displaystyle \\left[ 1.4634393067159563, \\  1.4634156933312956, \\  1.4631182474743119, \\  1.463335012310632\\right]$"
      ],
      "text/plain": [
       "[1.4634393067159563, 1.4634156933312956, 1.4631182474743119, 1.463335012310632\n",
       "]"
      ]
     },
     "metadata": {},
     "output_type": "display_data"
    },
    {
     "name": "stdout",
     "output_type": "stream",
     "text": [
      "Ponto mínimo aproximado Xn:\n"
     ]
    },
    {
     "data": {
      "text/latex": [
       "$\\displaystyle \\left[ 1.460942646243383, \\  1.4430580730635643, \\  1.479136334651664, \\  1.4740525675209113\\right]$"
      ],
      "text/plain": [
       "[1.460942646243383, 1.4430580730635643, 1.479136334651664, 1.4740525675209113]"
      ]
     },
     "metadata": {},
     "output_type": "display_data"
    },
    {
     "name": "stdout",
     "output_type": "stream",
     "text": [
      "Ponto mínimo aproximado Xn:\n"
     ]
    },
    {
     "data": {
      "text/latex": [
       "$\\displaystyle \\left[ 1.4382920788931173, \\  1.2639445412500134, \\  1.6201442212628652, \\  1.576137157220718\\right]$"
      ],
      "text/plain": [
       "[1.4382920788931173, 1.2639445412500134, 1.6201442212628652, 1.576137157220718\n",
       "]"
      ]
     },
     "metadata": {},
     "output_type": "display_data"
    },
    {
     "name": "stdout",
     "output_type": "stream",
     "text": [
      "Ponto mínimo aproximado Xn:\n"
     ]
    },
    {
     "data": {
      "text/latex": [
       "$\\displaystyle \\left[ 1.4634158213992192, \\  1.4634158425381916, \\  1.4633245951246476, \\  1.4632034094713182\\right]$"
      ],
      "text/plain": [
       "[1.4634158213992192, 1.4634158425381916, 1.4633245951246476, 1.463203409471318\n",
       "2]"
      ]
     },
     "metadata": {},
     "output_type": "display_data"
    },
    {
     "name": "stdout",
     "output_type": "stream",
     "text": [
      "Ponto mínimo aproximado Xn:\n"
     ]
    },
    {
     "data": {
      "text/latex": [
       "$\\displaystyle \\left[ 1.4634061893136254, \\  1.4633925795243157, \\  1.4633219168442941, \\  1.463306500854389\\right]$"
      ],
      "text/plain": [
       "[1.4634061893136254, 1.4633925795243157, 1.4633219168442941, 1.463306500854389\n",
       "]"
      ]
     },
     "metadata": {},
     "output_type": "display_data"
    },
    {
     "name": "stdout",
     "output_type": "stream",
     "text": [
      "Ponto mínimo aproximado Xn:\n"
     ]
    },
    {
     "data": {
      "text/latex": [
       "$\\displaystyle \\left[ 1.463485738995213, \\  1.4633880324869135, \\  1.4634865037307097, \\  1.4626227686423037\\right]$"
      ],
      "text/plain": [
       "[1.463485738995213, 1.4633880324869135, 1.4634865037307097, 1.4626227686423037\n",
       "]"
      ]
     },
     "metadata": {},
     "output_type": "display_data"
    },
    {
     "name": "stdout",
     "output_type": "stream",
     "text": [
      "Minimização encerrada, 200 pontos mínimos encontrados.\n"
     ]
    }
   ],
   "source": [
    "# Método da Descida para Funções Multiobjetivo\n",
    "\n",
    "# Parâmetros:\n",
    "iteration_max = 100 # Limite máximo de iterações\n",
    "error = 10.0**(-4) # Taxa de erro aceita\n",
    "beta = 0.5 # Constante para achar o tamanho do passo\n",
    "base_step_size = 1 # Tamanho do passo resetará para este valor a cada novo passo\n",
    "v0 = [0]*n # Direção inicial para solucionar o problema 3\n",
    "alpha = 1 # Alfa inicial para solucionar o problema 3\n",
    "all_walks = [] # Para salvar os caminhamentos e plotar a curva de pareto\n",
    "\n",
    "# Criando o vetor de variáveis para solucionar o problema 3\n",
    "v0.append(alpha)\n",
    "\n",
    "# Escolhendo os pontos iniciais de Xn para cada caminhamento i:\n",
    "q_walks = 200 # Quantidade de caminhamentos a serem feitos\n",
    "initial_points = []\n",
    "for i in range (0, q_walks):\n",
    "    Xn_init = []\n",
    "    for j in range (0, n):\n",
    "        Xn_init.append(2*rd.random()-1.0) # r.random() retorna um real entre 0 e 1\n",
    "    initial_points.append (Xn_init)\n",
    "\n",
    "# Realizando o método para cada ponto inicial:\n",
    "for i in range (0, q_walks):\n",
    "    \n",
    "    Xn = initial_points[i] # Começando com X no ponto inicial i\n",
    "    iteration = 0 # Contador de iterações\n",
    "    FXn_walk = [] # Para plotagem da curva de pareto\n",
    "    \n",
    "    # Realizando o método:\n",
    "    if print_Walk:\n",
    "        print (\"Passo\\tF(Xn)\\t\\t\\t\\t\\t\\tXn\")\n",
    "        \n",
    "    while True:        \n",
    "\n",
    "        # Calculando a JFxV aplicada em Xn\n",
    "        JFxV_in_xn = point_in_func(JFxV, x, Xn)\n",
    "\n",
    "        # Transformando JFxV_in_xk em uma função para ser usado pelo numpy:\n",
    "        JFxV_in_xn_func = sp.lambdify([v], JFxV_in_xn,'numpy')\n",
    "\n",
    "        # Calculando a função em Xn\n",
    "        func_Xn = sp.Matrix(point_in_func(Fx, x, Xn))\n",
    "\n",
    "        # Salvando FXn para plotagem:\n",
    "        FXn_walk.append(func_Xn)\n",
    "\n",
    "        # Solucionando o problema 3 e achando a direção v:\n",
    "        constr = {'type': 'ineq', 'fun': constr_func}\n",
    "        direction = opt.minimize(obj_func, v0, method='SLSQP', constraints=constr)\n",
    "        direction = list(direction.x)\n",
    "        direction.pop()\n",
    "\n",
    "        # Se o módulo da direção for pequeno (próximo a zero), paramos\n",
    "        if (squared_norm(direction) <= error**2):\n",
    "            break\n",
    "\n",
    "        # Buscando um tamanho de passo que respeite a Regra de Armijo\n",
    "        step_size = base_step_size\n",
    "        while True:\n",
    "\n",
    "            # Calculamos o novo Xn (ou X(n+1)) de acordo com o tamanho do passo atual\n",
    "            new_Xn = get_new_Xn(Xn, step_size, direction) \n",
    "\n",
    "            # Calculamos f( X(n+1) )\n",
    "            func_new_Xn = point_in_func(Fx, x, new_Xn)\n",
    "\n",
    "            # Aplicamos a direção v e o ponto Xn em JFxV\n",
    "            JFxV_in_xn_vn = sp.Matrix(point_in_func(JFxV_in_xn, v, direction))\n",
    "\n",
    "            # Testamos a primeira condição de Wolfe (Regra de Armijo)\n",
    "            if not vector_leq(func_new_Xn, func_Xn + beta*step_size*JFxV_in_xn_vn):\n",
    "                # Avançamos o valor de alpha\n",
    "                step_size /= 2\n",
    "                continue\n",
    "\n",
    "            # Ao chegarmos aqui, alpha satisfaz as condições de Wolfe, logo, aceitamos X(n+1)\n",
    "            Xn = new_Xn\n",
    "            \n",
    "            if print_Walk:\n",
    "                print(step_size, func_new_Xn, new_Xn, sep='\\t')\n",
    "            \n",
    "            break\n",
    "\n",
    "        # Se fizer iterações demais, para\n",
    "        iteration+=1\n",
    "        if iteration > iteration_max:\n",
    "            print(\"Muitas iterações\")\n",
    "            break\n",
    "    if print_minimum:\n",
    "        print(\"Ponto mínimo aproximado Xn:\")\n",
    "        display(Xn)\n",
    "\n",
    "    # Salvando o caminhamento de FXn para plotagem:\n",
    "    all_walks.append(FXn_walk)\n",
    "\n",
    "# Acabaram-se todos os caminhamentos:\n",
    "print(\"Minimização encerrada,\",q_walks,\"pontos mínimos encontrados.\")"
   ]
  },
  {
   "cell_type": "markdown",
   "metadata": {},
   "source": [
    "Plotando a curva de pareto (caminhadas):"
   ]
  },
  {
   "cell_type": "code",
   "execution_count": 12,
   "metadata": {},
   "outputs": [],
   "source": [
    "# Para abrir a janela interativa do matplotlib, use:\n",
    "%matplotlib qt \n",
    "\n",
    "# Dimensão da imagem da função:\n",
    "m = len (Fx) \n",
    "\n",
    "# Plot 2D para funções com 2 componentes\n",
    "if m == 2:\n",
    "    plt.figure()\n",
    "    plt.xlabel(\"Fx[0]\")\n",
    "    plt.ylabel(\"Fx[1]\")\n",
    "\n",
    "    # Plotando as caminhadas\n",
    "    for i in range (0, q_walks):\n",
    "        x_axis = []\n",
    "        y_axis = []\n",
    "        for j in range (0,len(all_walks[i])):\n",
    "            x_axis.append(all_walks[i][j][0])\n",
    "            y_axis.append(all_walks[i][j][1])\n",
    "        plt.plot (x_axis, y_axis, marker = 'o', linestyle = '-')\n",
    "\n",
    "# Plot 3D para funções com 3 componentes\n",
    "elif m == 3:\n",
    "    fig = plt.figure()\n",
    "    ax = fig.gca(projection='3d')\n",
    "    ax.set_xlabel('Fx[0]')\n",
    "    ax.set_ylabel('Fx[1]')\n",
    "    ax.set_zlabel('Fx[2]')\n",
    " \n",
    "    # Plotando as caminhadas\n",
    "    for i in range (0, q_walks):\n",
    "        x_axis = []\n",
    "        y_axis = []\n",
    "        z_axis = []\n",
    "        for j in range (0,len(all_walks[i])):\n",
    "            x_axis.append(all_walks[i][j][0])\n",
    "            y_axis.append(all_walks[i][j][1])\n",
    "            z_axis.append(all_walks[i][j][2])\n",
    "        ax.plot (x_axis, y_axis, z_axis, color = 'b', marker = 'o', linestyle = '-')\n",
    "\n",
    "# Plotando:\n",
    "plt.show()"
   ]
  },
  {
   "cell_type": "markdown",
   "metadata": {},
   "source": [
    "Plotando a curva de pareto (pontos mínimos):"
   ]
  },
  {
   "cell_type": "code",
   "execution_count": 13,
   "metadata": {},
   "outputs": [],
   "source": [
    "# Para abrir a janela interativa do matplotlib, use:\n",
    "%matplotlib qt \n",
    "\n",
    "# Dimensão da imagem da função:\n",
    "m = len (Fx) \n",
    "\n",
    "# Plot 2D para funções com 2 componentes\n",
    "if m == 2:\n",
    "    plt.figure()\n",
    "    plt.xlabel(\"Fx[0]\")\n",
    "    plt.ylabel(\"Fx[1]\")\n",
    "\n",
    "\n",
    "# Plotando a curva dos pontos mínimos:\n",
    "    x_axis = []\n",
    "    y_axis = []\n",
    "    for i in range (0, q_walks):\n",
    "        x_axis.append(all_walks[i][-1][0])\n",
    "        y_axis.append(all_walks[i][-1][1])\n",
    "    plt.plot (x_axis, y_axis, marker = 'o', linestyle = '')\n",
    "\n",
    "\n",
    "# Plot 3D para funções com 3 componentes\n",
    "elif m == 3:\n",
    "    fig = plt.figure()\n",
    "    ax = fig.gca(projection='3d')\n",
    "    ax.set_xlabel('Fx[0]')\n",
    "    ax.set_ylabel('Fx[1]')\n",
    "    ax.set_zlabel('Fx[2]')\n",
    "\n",
    "    # Plotando a curva dos pontos mínimos:\\n\",\n",
    "    x_axis = []\n",
    "    y_axis = []\n",
    "    z_axis = []\n",
    "    for i in range (0, q_walks):\n",
    "        x_axis.append(all_walks[i][-1][0])\n",
    "        y_axis.append(all_walks[i][-1][1])\n",
    "        z_axis.append(all_walks[i][-1][2])\n",
    "        ax.plot (x_axis, y_axis, z_axis, color = 'r', marker = 'o', linestyle = '')\n",
    "\n",
    "\n",
    "# Plotando:\n",
    "plt.show()"
   ]
  },
  {
   "cell_type": "code",
   "execution_count": null,
   "metadata": {},
   "outputs": [],
   "source": []
  }
 ],
 "metadata": {
  "kernelspec": {
   "display_name": "Python 3",
   "language": "python",
   "name": "python3"
  },
  "language_info": {
   "codemirror_mode": {
    "name": "ipython",
    "version": 3
   },
   "file_extension": ".py",
   "mimetype": "text/x-python",
   "name": "python",
   "nbconvert_exporter": "python",
   "pygments_lexer": "ipython3",
   "version": "3.8.5"
  }
 },
 "nbformat": 4,
 "nbformat_minor": 4
}
